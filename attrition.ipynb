{
  "nbformat": 4,
  "nbformat_minor": 0,
  "metadata": {
    "colab": {
      "name": "attrition.ipynb",
      "provenance": [],
      "collapsed_sections": [],
      "authorship_tag": "ABX9TyM8nvIQ+5LCVaWyTmUTD39C",
      "include_colab_link": true
    },
    "kernelspec": {
      "name": "python3",
      "display_name": "Python 3"
    }
  },
  "cells": [
    {
      "cell_type": "markdown",
      "metadata": {
        "id": "view-in-github",
        "colab_type": "text"
      },
      "source": [
        "<a href=\"https://colab.research.google.com/github/pedroafleite/attrition/blob/main/attrition.ipynb\" target=\"_parent\"><img src=\"https://colab.research.google.com/assets/colab-badge.svg\" alt=\"Open In Colab\"/></a>"
      ]
    },
    {
      "cell_type": "markdown",
      "metadata": {
        "id": "WE2QNSbky0FK"
      },
      "source": [
        "# Attrition Data Analysis\r\n",
        "\r\n",
        "*Attrition* significa atrito, desgaste.  É um termo conhecido no inglês para se referir à perda natural de funcionários da empresa, seja por aposentadoria, demissão, condições de saúde, e outros motivos. Aqui, irei me referir a *Attrition* como Evasão.\r\n",
        "\r\n",
        "Funcionários são muito importantes para qualquer empresa. A perda de funcionários pode acarretar em  diversos problemas. Perder funcionários experientes é um processo por si só caro, mas também pode afetar a produtividade e o lucro da empresa em geral."
      ]
    },
    {
      "cell_type": "code",
      "metadata": {
        "colab": {
          "base_uri": "https://localhost:8080/"
        },
        "id": "hcDoErF7zarY",
        "outputId": "7092cc93-582a-403c-b325-c769e87cc9ce"
      },
      "source": [
        "import numpy as np\r\n",
        "import pandas as pd\r\n",
        "import matplotlib.pyplot as plt\r\n",
        "%matplotlib inline\r\n",
        "import seaborn as sns\r\n",
        "\r\n",
        "import warnings\r\n",
        "def ignore_warn(*args, **kwargs):\r\n",
        "    pass\r\n",
        "warnings.warn = ignore_warn # ignorar alertas do jupyter notebook\r\n",
        "\r\n",
        "from google.colab import drive\r\n",
        "drive.mount('/content/drive')"
      ],
      "execution_count": 1,
      "outputs": [
        {
          "output_type": "stream",
          "text": [
            "Drive already mounted at /content/drive; to attempt to forcibly remount, call drive.mount(\"/content/drive\", force_remount=True).\n"
          ],
          "name": "stdout"
        }
      ]
    },
    {
      "cell_type": "markdown",
      "metadata": {
        "id": "5Ui-u3033Lbo"
      },
      "source": [
        "## Descrição dos Dados"
      ]
    },
    {
      "cell_type": "code",
      "metadata": {
        "id": "aNLYcNWJKsUz",
        "colab": {
          "base_uri": "https://localhost:8080/",
          "height": 309
        },
        "outputId": "827f04d4-1de1-460f-942e-fc8765319ce1"
      },
      "source": [
        "df = pd.read_excel(\"/content/drive/MyDrive/Colab Notebooks/people_analytics/Dataset.xlsx\")\r\n",
        "df.head()"
      ],
      "execution_count": 2,
      "outputs": [
        {
          "output_type": "execute_result",
          "data": {
            "text/html": [
              "<div>\n",
              "<style scoped>\n",
              "    .dataframe tbody tr th:only-of-type {\n",
              "        vertical-align: middle;\n",
              "    }\n",
              "\n",
              "    .dataframe tbody tr th {\n",
              "        vertical-align: top;\n",
              "    }\n",
              "\n",
              "    .dataframe thead th {\n",
              "        text-align: right;\n",
              "    }\n",
              "</style>\n",
              "<table border=\"1\" class=\"dataframe\">\n",
              "  <thead>\n",
              "    <tr style=\"text-align: right;\">\n",
              "      <th></th>\n",
              "      <th>Age</th>\n",
              "      <th>Attrition</th>\n",
              "      <th>BusinessTravel</th>\n",
              "      <th>DailyRate</th>\n",
              "      <th>Department</th>\n",
              "      <th>DistanceFromHome</th>\n",
              "      <th>Education</th>\n",
              "      <th>EducationField</th>\n",
              "      <th>EmployeeCount</th>\n",
              "      <th>EmployeeNumber</th>\n",
              "      <th>EnvironmentSatisfaction</th>\n",
              "      <th>Gender</th>\n",
              "      <th>HourlyRate</th>\n",
              "      <th>JobInvolvement</th>\n",
              "      <th>JobLevel</th>\n",
              "      <th>JobRole</th>\n",
              "      <th>JobSatisfaction</th>\n",
              "      <th>MaritalStatus</th>\n",
              "      <th>MonthlyIncome</th>\n",
              "      <th>MonthlyRate</th>\n",
              "      <th>NumCompaniesWorked</th>\n",
              "      <th>Over18</th>\n",
              "      <th>OverTime</th>\n",
              "      <th>PercentSalaryHike</th>\n",
              "      <th>PerformanceRating</th>\n",
              "      <th>RelationshipSatisfaction</th>\n",
              "      <th>StandardHours</th>\n",
              "      <th>StockOptionLevel</th>\n",
              "      <th>TotalWorkingYears</th>\n",
              "      <th>TrainingTimesLastYear</th>\n",
              "      <th>WorkLifeBalance</th>\n",
              "      <th>YearsAtCompany</th>\n",
              "      <th>YearsInCurrentRole</th>\n",
              "      <th>YearsSinceLastPromotion</th>\n",
              "      <th>YearsWithCurrManager</th>\n",
              "    </tr>\n",
              "  </thead>\n",
              "  <tbody>\n",
              "    <tr>\n",
              "      <th>0</th>\n",
              "      <td>41</td>\n",
              "      <td>Yes</td>\n",
              "      <td>Travel_Rarely</td>\n",
              "      <td>1102</td>\n",
              "      <td>Sales</td>\n",
              "      <td>1</td>\n",
              "      <td>2</td>\n",
              "      <td>Life Sciences</td>\n",
              "      <td>1</td>\n",
              "      <td>1</td>\n",
              "      <td>2</td>\n",
              "      <td>Female</td>\n",
              "      <td>94</td>\n",
              "      <td>3</td>\n",
              "      <td>2</td>\n",
              "      <td>Sales Executive</td>\n",
              "      <td>4</td>\n",
              "      <td>Single</td>\n",
              "      <td>5993</td>\n",
              "      <td>19479</td>\n",
              "      <td>8</td>\n",
              "      <td>Y</td>\n",
              "      <td>Yes</td>\n",
              "      <td>11</td>\n",
              "      <td>3</td>\n",
              "      <td>1</td>\n",
              "      <td>80</td>\n",
              "      <td>0</td>\n",
              "      <td>8</td>\n",
              "      <td>0</td>\n",
              "      <td>1</td>\n",
              "      <td>6</td>\n",
              "      <td>4</td>\n",
              "      <td>0</td>\n",
              "      <td>5</td>\n",
              "    </tr>\n",
              "    <tr>\n",
              "      <th>1</th>\n",
              "      <td>49</td>\n",
              "      <td>No</td>\n",
              "      <td>Travel_Frequently</td>\n",
              "      <td>279</td>\n",
              "      <td>Research &amp; Development</td>\n",
              "      <td>8</td>\n",
              "      <td>1</td>\n",
              "      <td>Life Sciences</td>\n",
              "      <td>1</td>\n",
              "      <td>2</td>\n",
              "      <td>3</td>\n",
              "      <td>Male</td>\n",
              "      <td>61</td>\n",
              "      <td>2</td>\n",
              "      <td>2</td>\n",
              "      <td>Research Scientist</td>\n",
              "      <td>2</td>\n",
              "      <td>Married</td>\n",
              "      <td>5130</td>\n",
              "      <td>24907</td>\n",
              "      <td>1</td>\n",
              "      <td>Y</td>\n",
              "      <td>No</td>\n",
              "      <td>23</td>\n",
              "      <td>4</td>\n",
              "      <td>4</td>\n",
              "      <td>80</td>\n",
              "      <td>1</td>\n",
              "      <td>10</td>\n",
              "      <td>3</td>\n",
              "      <td>3</td>\n",
              "      <td>10</td>\n",
              "      <td>7</td>\n",
              "      <td>1</td>\n",
              "      <td>7</td>\n",
              "    </tr>\n",
              "    <tr>\n",
              "      <th>2</th>\n",
              "      <td>37</td>\n",
              "      <td>Yes</td>\n",
              "      <td>Travel_Rarely</td>\n",
              "      <td>1373</td>\n",
              "      <td>Research &amp; Development</td>\n",
              "      <td>2</td>\n",
              "      <td>2</td>\n",
              "      <td>Other</td>\n",
              "      <td>1</td>\n",
              "      <td>4</td>\n",
              "      <td>4</td>\n",
              "      <td>Male</td>\n",
              "      <td>92</td>\n",
              "      <td>2</td>\n",
              "      <td>1</td>\n",
              "      <td>Laboratory Technician</td>\n",
              "      <td>3</td>\n",
              "      <td>Single</td>\n",
              "      <td>2090</td>\n",
              "      <td>2396</td>\n",
              "      <td>6</td>\n",
              "      <td>Y</td>\n",
              "      <td>Yes</td>\n",
              "      <td>15</td>\n",
              "      <td>3</td>\n",
              "      <td>2</td>\n",
              "      <td>80</td>\n",
              "      <td>0</td>\n",
              "      <td>7</td>\n",
              "      <td>3</td>\n",
              "      <td>3</td>\n",
              "      <td>0</td>\n",
              "      <td>0</td>\n",
              "      <td>0</td>\n",
              "      <td>0</td>\n",
              "    </tr>\n",
              "    <tr>\n",
              "      <th>3</th>\n",
              "      <td>33</td>\n",
              "      <td>No</td>\n",
              "      <td>Travel_Frequently</td>\n",
              "      <td>1392</td>\n",
              "      <td>Research &amp; Development</td>\n",
              "      <td>3</td>\n",
              "      <td>4</td>\n",
              "      <td>Life Sciences</td>\n",
              "      <td>1</td>\n",
              "      <td>5</td>\n",
              "      <td>4</td>\n",
              "      <td>Female</td>\n",
              "      <td>56</td>\n",
              "      <td>3</td>\n",
              "      <td>1</td>\n",
              "      <td>Research Scientist</td>\n",
              "      <td>3</td>\n",
              "      <td>Married</td>\n",
              "      <td>2909</td>\n",
              "      <td>23159</td>\n",
              "      <td>1</td>\n",
              "      <td>Y</td>\n",
              "      <td>Yes</td>\n",
              "      <td>11</td>\n",
              "      <td>3</td>\n",
              "      <td>3</td>\n",
              "      <td>80</td>\n",
              "      <td>0</td>\n",
              "      <td>8</td>\n",
              "      <td>3</td>\n",
              "      <td>3</td>\n",
              "      <td>8</td>\n",
              "      <td>7</td>\n",
              "      <td>3</td>\n",
              "      <td>0</td>\n",
              "    </tr>\n",
              "    <tr>\n",
              "      <th>4</th>\n",
              "      <td>27</td>\n",
              "      <td>No</td>\n",
              "      <td>Travel_Rarely</td>\n",
              "      <td>591</td>\n",
              "      <td>Research &amp; Development</td>\n",
              "      <td>2</td>\n",
              "      <td>1</td>\n",
              "      <td>Medical</td>\n",
              "      <td>1</td>\n",
              "      <td>7</td>\n",
              "      <td>1</td>\n",
              "      <td>Male</td>\n",
              "      <td>40</td>\n",
              "      <td>3</td>\n",
              "      <td>1</td>\n",
              "      <td>Laboratory Technician</td>\n",
              "      <td>2</td>\n",
              "      <td>Married</td>\n",
              "      <td>3468</td>\n",
              "      <td>16632</td>\n",
              "      <td>9</td>\n",
              "      <td>Y</td>\n",
              "      <td>No</td>\n",
              "      <td>12</td>\n",
              "      <td>3</td>\n",
              "      <td>4</td>\n",
              "      <td>80</td>\n",
              "      <td>1</td>\n",
              "      <td>6</td>\n",
              "      <td>3</td>\n",
              "      <td>3</td>\n",
              "      <td>2</td>\n",
              "      <td>2</td>\n",
              "      <td>2</td>\n",
              "      <td>2</td>\n",
              "    </tr>\n",
              "  </tbody>\n",
              "</table>\n",
              "</div>"
            ],
            "text/plain": [
              "   Age Attrition  ... YearsSinceLastPromotion  YearsWithCurrManager\n",
              "0   41       Yes  ...                       0                     5\n",
              "1   49        No  ...                       1                     7\n",
              "2   37       Yes  ...                       0                     0\n",
              "3   33        No  ...                       3                     0\n",
              "4   27        No  ...                       2                     2\n",
              "\n",
              "[5 rows x 35 columns]"
            ]
          },
          "metadata": {
            "tags": []
          },
          "execution_count": 2
        }
      ]
    },
    {
      "cell_type": "code",
      "metadata": {
        "colab": {
          "base_uri": "https://localhost:8080/"
        },
        "id": "8uARI4GP5T3K",
        "outputId": "5272571c-7d7b-48cd-ea71-14d7125c9053"
      },
      "source": [
        "df.shape"
      ],
      "execution_count": 3,
      "outputs": [
        {
          "output_type": "execute_result",
          "data": {
            "text/plain": [
              "(1470, 35)"
            ]
          },
          "metadata": {
            "tags": []
          },
          "execution_count": 3
        }
      ]
    },
    {
      "cell_type": "code",
      "metadata": {
        "id": "mAl4D56gUX3j",
        "colab": {
          "base_uri": "https://localhost:8080/"
        },
        "outputId": "9433f9a0-a2cb-473d-8949-dc7988aa21e3"
      },
      "source": [
        "df.isna().sum() # dataset não possui valores nulos!"
      ],
      "execution_count": 4,
      "outputs": [
        {
          "output_type": "execute_result",
          "data": {
            "text/plain": [
              "Age                         0\n",
              "Attrition                   0\n",
              "BusinessTravel              0\n",
              "DailyRate                   0\n",
              "Department                  0\n",
              "DistanceFromHome            0\n",
              "Education                   0\n",
              "EducationField              0\n",
              "EmployeeCount               0\n",
              "EmployeeNumber              0\n",
              "EnvironmentSatisfaction     0\n",
              "Gender                      0\n",
              "HourlyRate                  0\n",
              "JobInvolvement              0\n",
              "JobLevel                    0\n",
              "JobRole                     0\n",
              "JobSatisfaction             0\n",
              "MaritalStatus               0\n",
              "MonthlyIncome               0\n",
              "MonthlyRate                 0\n",
              "NumCompaniesWorked          0\n",
              "Over18                      0\n",
              "OverTime                    0\n",
              "PercentSalaryHike           0\n",
              "PerformanceRating           0\n",
              "RelationshipSatisfaction    0\n",
              "StandardHours               0\n",
              "StockOptionLevel            0\n",
              "TotalWorkingYears           0\n",
              "TrainingTimesLastYear       0\n",
              "WorkLifeBalance             0\n",
              "YearsAtCompany              0\n",
              "YearsInCurrentRole          0\n",
              "YearsSinceLastPromotion     0\n",
              "YearsWithCurrManager        0\n",
              "dtype: int64"
            ]
          },
          "metadata": {
            "tags": []
          },
          "execution_count": 4
        }
      ]
    },
    {
      "cell_type": "code",
      "metadata": {
        "id": "wqt8acleWlzG",
        "colab": {
          "base_uri": "https://localhost:8080/"
        },
        "outputId": "d4150ba0-7a50-49bc-b671-37f9b78a3f4b"
      },
      "source": [
        "df.info()"
      ],
      "execution_count": 5,
      "outputs": [
        {
          "output_type": "stream",
          "text": [
            "<class 'pandas.core.frame.DataFrame'>\n",
            "RangeIndex: 1470 entries, 0 to 1469\n",
            "Data columns (total 35 columns):\n",
            " #   Column                    Non-Null Count  Dtype \n",
            "---  ------                    --------------  ----- \n",
            " 0   Age                       1470 non-null   int64 \n",
            " 1   Attrition                 1470 non-null   object\n",
            " 2   BusinessTravel            1470 non-null   object\n",
            " 3   DailyRate                 1470 non-null   int64 \n",
            " 4   Department                1470 non-null   object\n",
            " 5   DistanceFromHome          1470 non-null   int64 \n",
            " 6   Education                 1470 non-null   int64 \n",
            " 7   EducationField            1470 non-null   object\n",
            " 8   EmployeeCount             1470 non-null   int64 \n",
            " 9   EmployeeNumber            1470 non-null   int64 \n",
            " 10  EnvironmentSatisfaction   1470 non-null   int64 \n",
            " 11  Gender                    1470 non-null   object\n",
            " 12  HourlyRate                1470 non-null   int64 \n",
            " 13  JobInvolvement            1470 non-null   int64 \n",
            " 14  JobLevel                  1470 non-null   int64 \n",
            " 15  JobRole                   1470 non-null   object\n",
            " 16  JobSatisfaction           1470 non-null   int64 \n",
            " 17  MaritalStatus             1470 non-null   object\n",
            " 18  MonthlyIncome             1470 non-null   int64 \n",
            " 19  MonthlyRate               1470 non-null   int64 \n",
            " 20  NumCompaniesWorked        1470 non-null   int64 \n",
            " 21  Over18                    1470 non-null   object\n",
            " 22  OverTime                  1470 non-null   object\n",
            " 23  PercentSalaryHike         1470 non-null   int64 \n",
            " 24  PerformanceRating         1470 non-null   int64 \n",
            " 25  RelationshipSatisfaction  1470 non-null   int64 \n",
            " 26  StandardHours             1470 non-null   int64 \n",
            " 27  StockOptionLevel          1470 non-null   int64 \n",
            " 28  TotalWorkingYears         1470 non-null   int64 \n",
            " 29  TrainingTimesLastYear     1470 non-null   int64 \n",
            " 30  WorkLifeBalance           1470 non-null   int64 \n",
            " 31  YearsAtCompany            1470 non-null   int64 \n",
            " 32  YearsInCurrentRole        1470 non-null   int64 \n",
            " 33  YearsSinceLastPromotion   1470 non-null   int64 \n",
            " 34  YearsWithCurrManager      1470 non-null   int64 \n",
            "dtypes: int64(26), object(9)\n",
            "memory usage: 402.1+ KB\n"
          ],
          "name": "stdout"
        }
      ]
    },
    {
      "cell_type": "code",
      "metadata": {
        "id": "GUZXm4I5WIHv",
        "colab": {
          "base_uri": "https://localhost:8080/",
          "height": 427
        },
        "outputId": "895c6fc1-d0c2-4289-9c21-ece23f462037"
      },
      "source": [
        "df.describe(include='all')"
      ],
      "execution_count": 6,
      "outputs": [
        {
          "output_type": "execute_result",
          "data": {
            "text/html": [
              "<div>\n",
              "<style scoped>\n",
              "    .dataframe tbody tr th:only-of-type {\n",
              "        vertical-align: middle;\n",
              "    }\n",
              "\n",
              "    .dataframe tbody tr th {\n",
              "        vertical-align: top;\n",
              "    }\n",
              "\n",
              "    .dataframe thead th {\n",
              "        text-align: right;\n",
              "    }\n",
              "</style>\n",
              "<table border=\"1\" class=\"dataframe\">\n",
              "  <thead>\n",
              "    <tr style=\"text-align: right;\">\n",
              "      <th></th>\n",
              "      <th>Age</th>\n",
              "      <th>Attrition</th>\n",
              "      <th>BusinessTravel</th>\n",
              "      <th>DailyRate</th>\n",
              "      <th>Department</th>\n",
              "      <th>DistanceFromHome</th>\n",
              "      <th>Education</th>\n",
              "      <th>EducationField</th>\n",
              "      <th>EmployeeCount</th>\n",
              "      <th>EmployeeNumber</th>\n",
              "      <th>EnvironmentSatisfaction</th>\n",
              "      <th>Gender</th>\n",
              "      <th>HourlyRate</th>\n",
              "      <th>JobInvolvement</th>\n",
              "      <th>JobLevel</th>\n",
              "      <th>JobRole</th>\n",
              "      <th>JobSatisfaction</th>\n",
              "      <th>MaritalStatus</th>\n",
              "      <th>MonthlyIncome</th>\n",
              "      <th>MonthlyRate</th>\n",
              "      <th>NumCompaniesWorked</th>\n",
              "      <th>Over18</th>\n",
              "      <th>OverTime</th>\n",
              "      <th>PercentSalaryHike</th>\n",
              "      <th>PerformanceRating</th>\n",
              "      <th>RelationshipSatisfaction</th>\n",
              "      <th>StandardHours</th>\n",
              "      <th>StockOptionLevel</th>\n",
              "      <th>TotalWorkingYears</th>\n",
              "      <th>TrainingTimesLastYear</th>\n",
              "      <th>WorkLifeBalance</th>\n",
              "      <th>YearsAtCompany</th>\n",
              "      <th>YearsInCurrentRole</th>\n",
              "      <th>YearsSinceLastPromotion</th>\n",
              "      <th>YearsWithCurrManager</th>\n",
              "    </tr>\n",
              "  </thead>\n",
              "  <tbody>\n",
              "    <tr>\n",
              "      <th>count</th>\n",
              "      <td>1470.000000</td>\n",
              "      <td>1470</td>\n",
              "      <td>1470</td>\n",
              "      <td>1470.000000</td>\n",
              "      <td>1470</td>\n",
              "      <td>1470.000000</td>\n",
              "      <td>1470.000000</td>\n",
              "      <td>1470</td>\n",
              "      <td>1470.0</td>\n",
              "      <td>1470.000000</td>\n",
              "      <td>1470.000000</td>\n",
              "      <td>1470</td>\n",
              "      <td>1470.000000</td>\n",
              "      <td>1470.000000</td>\n",
              "      <td>1470.000000</td>\n",
              "      <td>1470</td>\n",
              "      <td>1470.000000</td>\n",
              "      <td>1470</td>\n",
              "      <td>1470.000000</td>\n",
              "      <td>1470.000000</td>\n",
              "      <td>1470.000000</td>\n",
              "      <td>1470</td>\n",
              "      <td>1470</td>\n",
              "      <td>1470.000000</td>\n",
              "      <td>1470.000000</td>\n",
              "      <td>1470.000000</td>\n",
              "      <td>1470.0</td>\n",
              "      <td>1470.000000</td>\n",
              "      <td>1470.000000</td>\n",
              "      <td>1470.000000</td>\n",
              "      <td>1470.000000</td>\n",
              "      <td>1470.000000</td>\n",
              "      <td>1470.000000</td>\n",
              "      <td>1470.000000</td>\n",
              "      <td>1470.000000</td>\n",
              "    </tr>\n",
              "    <tr>\n",
              "      <th>unique</th>\n",
              "      <td>NaN</td>\n",
              "      <td>2</td>\n",
              "      <td>3</td>\n",
              "      <td>NaN</td>\n",
              "      <td>3</td>\n",
              "      <td>NaN</td>\n",
              "      <td>NaN</td>\n",
              "      <td>6</td>\n",
              "      <td>NaN</td>\n",
              "      <td>NaN</td>\n",
              "      <td>NaN</td>\n",
              "      <td>2</td>\n",
              "      <td>NaN</td>\n",
              "      <td>NaN</td>\n",
              "      <td>NaN</td>\n",
              "      <td>9</td>\n",
              "      <td>NaN</td>\n",
              "      <td>3</td>\n",
              "      <td>NaN</td>\n",
              "      <td>NaN</td>\n",
              "      <td>NaN</td>\n",
              "      <td>1</td>\n",
              "      <td>2</td>\n",
              "      <td>NaN</td>\n",
              "      <td>NaN</td>\n",
              "      <td>NaN</td>\n",
              "      <td>NaN</td>\n",
              "      <td>NaN</td>\n",
              "      <td>NaN</td>\n",
              "      <td>NaN</td>\n",
              "      <td>NaN</td>\n",
              "      <td>NaN</td>\n",
              "      <td>NaN</td>\n",
              "      <td>NaN</td>\n",
              "      <td>NaN</td>\n",
              "    </tr>\n",
              "    <tr>\n",
              "      <th>top</th>\n",
              "      <td>NaN</td>\n",
              "      <td>No</td>\n",
              "      <td>Travel_Rarely</td>\n",
              "      <td>NaN</td>\n",
              "      <td>Research &amp; Development</td>\n",
              "      <td>NaN</td>\n",
              "      <td>NaN</td>\n",
              "      <td>Life Sciences</td>\n",
              "      <td>NaN</td>\n",
              "      <td>NaN</td>\n",
              "      <td>NaN</td>\n",
              "      <td>Male</td>\n",
              "      <td>NaN</td>\n",
              "      <td>NaN</td>\n",
              "      <td>NaN</td>\n",
              "      <td>Sales Executive</td>\n",
              "      <td>NaN</td>\n",
              "      <td>Married</td>\n",
              "      <td>NaN</td>\n",
              "      <td>NaN</td>\n",
              "      <td>NaN</td>\n",
              "      <td>Y</td>\n",
              "      <td>No</td>\n",
              "      <td>NaN</td>\n",
              "      <td>NaN</td>\n",
              "      <td>NaN</td>\n",
              "      <td>NaN</td>\n",
              "      <td>NaN</td>\n",
              "      <td>NaN</td>\n",
              "      <td>NaN</td>\n",
              "      <td>NaN</td>\n",
              "      <td>NaN</td>\n",
              "      <td>NaN</td>\n",
              "      <td>NaN</td>\n",
              "      <td>NaN</td>\n",
              "    </tr>\n",
              "    <tr>\n",
              "      <th>freq</th>\n",
              "      <td>NaN</td>\n",
              "      <td>1233</td>\n",
              "      <td>1043</td>\n",
              "      <td>NaN</td>\n",
              "      <td>961</td>\n",
              "      <td>NaN</td>\n",
              "      <td>NaN</td>\n",
              "      <td>606</td>\n",
              "      <td>NaN</td>\n",
              "      <td>NaN</td>\n",
              "      <td>NaN</td>\n",
              "      <td>882</td>\n",
              "      <td>NaN</td>\n",
              "      <td>NaN</td>\n",
              "      <td>NaN</td>\n",
              "      <td>326</td>\n",
              "      <td>NaN</td>\n",
              "      <td>673</td>\n",
              "      <td>NaN</td>\n",
              "      <td>NaN</td>\n",
              "      <td>NaN</td>\n",
              "      <td>1470</td>\n",
              "      <td>1054</td>\n",
              "      <td>NaN</td>\n",
              "      <td>NaN</td>\n",
              "      <td>NaN</td>\n",
              "      <td>NaN</td>\n",
              "      <td>NaN</td>\n",
              "      <td>NaN</td>\n",
              "      <td>NaN</td>\n",
              "      <td>NaN</td>\n",
              "      <td>NaN</td>\n",
              "      <td>NaN</td>\n",
              "      <td>NaN</td>\n",
              "      <td>NaN</td>\n",
              "    </tr>\n",
              "    <tr>\n",
              "      <th>mean</th>\n",
              "      <td>36.923810</td>\n",
              "      <td>NaN</td>\n",
              "      <td>NaN</td>\n",
              "      <td>802.485714</td>\n",
              "      <td>NaN</td>\n",
              "      <td>9.192517</td>\n",
              "      <td>2.912925</td>\n",
              "      <td>NaN</td>\n",
              "      <td>1.0</td>\n",
              "      <td>1024.865306</td>\n",
              "      <td>2.721769</td>\n",
              "      <td>NaN</td>\n",
              "      <td>65.891156</td>\n",
              "      <td>2.729932</td>\n",
              "      <td>2.063946</td>\n",
              "      <td>NaN</td>\n",
              "      <td>2.728571</td>\n",
              "      <td>NaN</td>\n",
              "      <td>6502.931293</td>\n",
              "      <td>14313.103401</td>\n",
              "      <td>2.693197</td>\n",
              "      <td>NaN</td>\n",
              "      <td>NaN</td>\n",
              "      <td>15.209524</td>\n",
              "      <td>3.153741</td>\n",
              "      <td>2.712245</td>\n",
              "      <td>80.0</td>\n",
              "      <td>0.793878</td>\n",
              "      <td>11.279592</td>\n",
              "      <td>2.799320</td>\n",
              "      <td>2.761224</td>\n",
              "      <td>7.008163</td>\n",
              "      <td>4.229252</td>\n",
              "      <td>2.187755</td>\n",
              "      <td>4.123129</td>\n",
              "    </tr>\n",
              "    <tr>\n",
              "      <th>std</th>\n",
              "      <td>9.135373</td>\n",
              "      <td>NaN</td>\n",
              "      <td>NaN</td>\n",
              "      <td>403.509100</td>\n",
              "      <td>NaN</td>\n",
              "      <td>8.106864</td>\n",
              "      <td>1.024165</td>\n",
              "      <td>NaN</td>\n",
              "      <td>0.0</td>\n",
              "      <td>602.024335</td>\n",
              "      <td>1.093082</td>\n",
              "      <td>NaN</td>\n",
              "      <td>20.329428</td>\n",
              "      <td>0.711561</td>\n",
              "      <td>1.106940</td>\n",
              "      <td>NaN</td>\n",
              "      <td>1.102846</td>\n",
              "      <td>NaN</td>\n",
              "      <td>4707.956783</td>\n",
              "      <td>7117.786044</td>\n",
              "      <td>2.498009</td>\n",
              "      <td>NaN</td>\n",
              "      <td>NaN</td>\n",
              "      <td>3.659938</td>\n",
              "      <td>0.360824</td>\n",
              "      <td>1.081209</td>\n",
              "      <td>0.0</td>\n",
              "      <td>0.852077</td>\n",
              "      <td>7.780782</td>\n",
              "      <td>1.289271</td>\n",
              "      <td>0.706476</td>\n",
              "      <td>6.126525</td>\n",
              "      <td>3.623137</td>\n",
              "      <td>3.222430</td>\n",
              "      <td>3.568136</td>\n",
              "    </tr>\n",
              "    <tr>\n",
              "      <th>min</th>\n",
              "      <td>18.000000</td>\n",
              "      <td>NaN</td>\n",
              "      <td>NaN</td>\n",
              "      <td>102.000000</td>\n",
              "      <td>NaN</td>\n",
              "      <td>1.000000</td>\n",
              "      <td>1.000000</td>\n",
              "      <td>NaN</td>\n",
              "      <td>1.0</td>\n",
              "      <td>1.000000</td>\n",
              "      <td>1.000000</td>\n",
              "      <td>NaN</td>\n",
              "      <td>30.000000</td>\n",
              "      <td>1.000000</td>\n",
              "      <td>1.000000</td>\n",
              "      <td>NaN</td>\n",
              "      <td>1.000000</td>\n",
              "      <td>NaN</td>\n",
              "      <td>1009.000000</td>\n",
              "      <td>2094.000000</td>\n",
              "      <td>0.000000</td>\n",
              "      <td>NaN</td>\n",
              "      <td>NaN</td>\n",
              "      <td>11.000000</td>\n",
              "      <td>3.000000</td>\n",
              "      <td>1.000000</td>\n",
              "      <td>80.0</td>\n",
              "      <td>0.000000</td>\n",
              "      <td>0.000000</td>\n",
              "      <td>0.000000</td>\n",
              "      <td>1.000000</td>\n",
              "      <td>0.000000</td>\n",
              "      <td>0.000000</td>\n",
              "      <td>0.000000</td>\n",
              "      <td>0.000000</td>\n",
              "    </tr>\n",
              "    <tr>\n",
              "      <th>25%</th>\n",
              "      <td>30.000000</td>\n",
              "      <td>NaN</td>\n",
              "      <td>NaN</td>\n",
              "      <td>465.000000</td>\n",
              "      <td>NaN</td>\n",
              "      <td>2.000000</td>\n",
              "      <td>2.000000</td>\n",
              "      <td>NaN</td>\n",
              "      <td>1.0</td>\n",
              "      <td>491.250000</td>\n",
              "      <td>2.000000</td>\n",
              "      <td>NaN</td>\n",
              "      <td>48.000000</td>\n",
              "      <td>2.000000</td>\n",
              "      <td>1.000000</td>\n",
              "      <td>NaN</td>\n",
              "      <td>2.000000</td>\n",
              "      <td>NaN</td>\n",
              "      <td>2911.000000</td>\n",
              "      <td>8047.000000</td>\n",
              "      <td>1.000000</td>\n",
              "      <td>NaN</td>\n",
              "      <td>NaN</td>\n",
              "      <td>12.000000</td>\n",
              "      <td>3.000000</td>\n",
              "      <td>2.000000</td>\n",
              "      <td>80.0</td>\n",
              "      <td>0.000000</td>\n",
              "      <td>6.000000</td>\n",
              "      <td>2.000000</td>\n",
              "      <td>2.000000</td>\n",
              "      <td>3.000000</td>\n",
              "      <td>2.000000</td>\n",
              "      <td>0.000000</td>\n",
              "      <td>2.000000</td>\n",
              "    </tr>\n",
              "    <tr>\n",
              "      <th>50%</th>\n",
              "      <td>36.000000</td>\n",
              "      <td>NaN</td>\n",
              "      <td>NaN</td>\n",
              "      <td>802.000000</td>\n",
              "      <td>NaN</td>\n",
              "      <td>7.000000</td>\n",
              "      <td>3.000000</td>\n",
              "      <td>NaN</td>\n",
              "      <td>1.0</td>\n",
              "      <td>1020.500000</td>\n",
              "      <td>3.000000</td>\n",
              "      <td>NaN</td>\n",
              "      <td>66.000000</td>\n",
              "      <td>3.000000</td>\n",
              "      <td>2.000000</td>\n",
              "      <td>NaN</td>\n",
              "      <td>3.000000</td>\n",
              "      <td>NaN</td>\n",
              "      <td>4919.000000</td>\n",
              "      <td>14235.500000</td>\n",
              "      <td>2.000000</td>\n",
              "      <td>NaN</td>\n",
              "      <td>NaN</td>\n",
              "      <td>14.000000</td>\n",
              "      <td>3.000000</td>\n",
              "      <td>3.000000</td>\n",
              "      <td>80.0</td>\n",
              "      <td>1.000000</td>\n",
              "      <td>10.000000</td>\n",
              "      <td>3.000000</td>\n",
              "      <td>3.000000</td>\n",
              "      <td>5.000000</td>\n",
              "      <td>3.000000</td>\n",
              "      <td>1.000000</td>\n",
              "      <td>3.000000</td>\n",
              "    </tr>\n",
              "    <tr>\n",
              "      <th>75%</th>\n",
              "      <td>43.000000</td>\n",
              "      <td>NaN</td>\n",
              "      <td>NaN</td>\n",
              "      <td>1157.000000</td>\n",
              "      <td>NaN</td>\n",
              "      <td>14.000000</td>\n",
              "      <td>4.000000</td>\n",
              "      <td>NaN</td>\n",
              "      <td>1.0</td>\n",
              "      <td>1555.750000</td>\n",
              "      <td>4.000000</td>\n",
              "      <td>NaN</td>\n",
              "      <td>83.750000</td>\n",
              "      <td>3.000000</td>\n",
              "      <td>3.000000</td>\n",
              "      <td>NaN</td>\n",
              "      <td>4.000000</td>\n",
              "      <td>NaN</td>\n",
              "      <td>8379.000000</td>\n",
              "      <td>20461.500000</td>\n",
              "      <td>4.000000</td>\n",
              "      <td>NaN</td>\n",
              "      <td>NaN</td>\n",
              "      <td>18.000000</td>\n",
              "      <td>3.000000</td>\n",
              "      <td>4.000000</td>\n",
              "      <td>80.0</td>\n",
              "      <td>1.000000</td>\n",
              "      <td>15.000000</td>\n",
              "      <td>3.000000</td>\n",
              "      <td>3.000000</td>\n",
              "      <td>9.000000</td>\n",
              "      <td>7.000000</td>\n",
              "      <td>3.000000</td>\n",
              "      <td>7.000000</td>\n",
              "    </tr>\n",
              "    <tr>\n",
              "      <th>max</th>\n",
              "      <td>60.000000</td>\n",
              "      <td>NaN</td>\n",
              "      <td>NaN</td>\n",
              "      <td>1499.000000</td>\n",
              "      <td>NaN</td>\n",
              "      <td>29.000000</td>\n",
              "      <td>5.000000</td>\n",
              "      <td>NaN</td>\n",
              "      <td>1.0</td>\n",
              "      <td>2068.000000</td>\n",
              "      <td>4.000000</td>\n",
              "      <td>NaN</td>\n",
              "      <td>100.000000</td>\n",
              "      <td>4.000000</td>\n",
              "      <td>5.000000</td>\n",
              "      <td>NaN</td>\n",
              "      <td>4.000000</td>\n",
              "      <td>NaN</td>\n",
              "      <td>19999.000000</td>\n",
              "      <td>26999.000000</td>\n",
              "      <td>9.000000</td>\n",
              "      <td>NaN</td>\n",
              "      <td>NaN</td>\n",
              "      <td>25.000000</td>\n",
              "      <td>4.000000</td>\n",
              "      <td>4.000000</td>\n",
              "      <td>80.0</td>\n",
              "      <td>3.000000</td>\n",
              "      <td>40.000000</td>\n",
              "      <td>6.000000</td>\n",
              "      <td>4.000000</td>\n",
              "      <td>40.000000</td>\n",
              "      <td>18.000000</td>\n",
              "      <td>15.000000</td>\n",
              "      <td>17.000000</td>\n",
              "    </tr>\n",
              "  </tbody>\n",
              "</table>\n",
              "</div>"
            ],
            "text/plain": [
              "                Age Attrition  ... YearsSinceLastPromotion  YearsWithCurrManager\n",
              "count   1470.000000      1470  ...             1470.000000           1470.000000\n",
              "unique          NaN         2  ...                     NaN                   NaN\n",
              "top             NaN        No  ...                     NaN                   NaN\n",
              "freq            NaN      1233  ...                     NaN                   NaN\n",
              "mean      36.923810       NaN  ...                2.187755              4.123129\n",
              "std        9.135373       NaN  ...                3.222430              3.568136\n",
              "min       18.000000       NaN  ...                0.000000              0.000000\n",
              "25%       30.000000       NaN  ...                0.000000              2.000000\n",
              "50%       36.000000       NaN  ...                1.000000              3.000000\n",
              "75%       43.000000       NaN  ...                3.000000              7.000000\n",
              "max       60.000000       NaN  ...               15.000000             17.000000\n",
              "\n",
              "[11 rows x 35 columns]"
            ]
          },
          "metadata": {
            "tags": []
          },
          "execution_count": 6
        }
      ]
    },
    {
      "cell_type": "markdown",
      "metadata": {
        "id": "0Y6BfR-e3UDZ"
      },
      "source": [
        "Variáveis com valores únicos determinados (**unique**  > 0) podem ser consideradas categóricas. No entanto, essas variáveis categóricas estão classificadas como `string` (`object` dtype). Seria melhor reclassificá-las com algorismos inteiros para modelarmos os dados."
      ]
    },
    {
      "cell_type": "code",
      "metadata": {
        "id": "0Z6tePftBU1C"
      },
      "source": [
        "categories = ['Attrition', 'BusinessTravel', 'Department', 'EducationField', 'Gender', 'JobRole', 'MaritalStatus', 'Over18', 'OverTime']\r\n",
        "df_encoded = df.copy(deep=True)"
      ],
      "execution_count": 7,
      "outputs": []
    },
    {
      "cell_type": "code",
      "metadata": {
        "colab": {
          "base_uri": "https://localhost:8080/"
        },
        "id": "ZQDpQKFH97cv",
        "outputId": "976fc8ea-609c-4458-eef2-052e1e34a7b9"
      },
      "source": [
        "from sklearn import preprocessing\r\n",
        "\r\n",
        "lab_enc = preprocessing.LabelEncoder()\r\n",
        "for col in categories:\r\n",
        "        df_encoded[col] = lab_enc.fit_transform(df[col])\r\n",
        "        name_mapping = dict(zip(lab_enc.classes_, lab_enc.transform(lab_enc.classes_)))\r\n",
        "        print('Feature', col)\r\n",
        "        print('mapping', name_mapping)"
      ],
      "execution_count": 8,
      "outputs": [
        {
          "output_type": "stream",
          "text": [
            "Feature Attrition\n",
            "mapping {'No': 0, 'Yes': 1}\n",
            "Feature BusinessTravel\n",
            "mapping {'Non-Travel': 0, 'Travel_Frequently': 1, 'Travel_Rarely': 2}\n",
            "Feature Department\n",
            "mapping {'Human Resources': 0, 'Research & Development': 1, 'Sales': 2}\n",
            "Feature EducationField\n",
            "mapping {'Human Resources': 0, 'Life Sciences': 1, 'Marketing': 2, 'Medical': 3, 'Other': 4, 'Technical Degree': 5}\n",
            "Feature Gender\n",
            "mapping {'Female': 0, 'Male': 1}\n",
            "Feature JobRole\n",
            "mapping {'Healthcare Representative': 0, 'Human Resources': 1, 'Laboratory Technician': 2, 'Manager': 3, 'Manufacturing Director': 4, 'Research Director': 5, 'Research Scientist': 6, 'Sales Executive': 7, 'Sales Representative': 8}\n",
            "Feature MaritalStatus\n",
            "mapping {'Divorced': 0, 'Married': 1, 'Single': 2}\n",
            "Feature Over18\n",
            "mapping {'Y': 0}\n",
            "Feature OverTime\n",
            "mapping {'No': 0, 'Yes': 1}\n"
          ],
          "name": "stdout"
        }
      ]
    },
    {
      "cell_type": "markdown",
      "metadata": {
        "id": "L6mrJMHw_-bB"
      },
      "source": [
        "Assim, iremos nos referir a este dicionário **name_mapping** para nos referirmos aos significados dos algorismos da tabela.\r\n",
        "\r\n",
        "Outras variáveis quantitativas representadas por poucos valores integrais também podem ser consideradas categóricas (**Education, EmployCount, EnvironmentSatisfaction, JobInvolvement, JobLevel, JobSatisfaction, NumCompaniesWorked, PerformanceRating, RelationshipSatisfaction, TrainingTimesLastYear, WorkLifeBalance**). "
      ]
    },
    {
      "cell_type": "markdown",
      "metadata": {
        "id": "ekr793vx4J1m"
      },
      "source": [
        "## Análise Exploratória dos Dados"
      ]
    },
    {
      "cell_type": "code",
      "metadata": {
        "id": "wyTnN61CUqy5",
        "colab": {
          "base_uri": "https://localhost:8080/",
          "height": 547
        },
        "outputId": "34202378-aa1c-4762-dad9-4aac1f2bb8af"
      },
      "source": [
        "# correlation matrix (heatmap)\r\n",
        "corrmat = df_encoded.drop(['EmployeeCount', 'StandardHours', 'Over18'], axis=1).corr() # eliminar colunas irrelevantes para o heatmap\r\n",
        "f, ax = plt.subplots(figsize=(18, 7))\r\n",
        "sns.heatmap(corrmat, square=True, cbar=True);"
      ],
      "execution_count": 9,
      "outputs": [
        {
          "output_type": "display_data",
          "data": {
            "image/png": "[encoded data removed]",
            "text/plain": [
              "<Figure size 1296x504 with 2 Axes>"
            ]
          },
          "metadata": {
            "tags": [],
            "needs_background": "light"
          }
        }
      ]
    },
    {
      "cell_type": "markdown",
      "metadata": {
        "id": "FQrGUy_NFXQQ"
      },
      "source": [
        "Podemos entender várias correlações dos nossos dados através do heatmap acima:\r\n",
        "\r\n",
        "- Evasão (**Attrition**) é altamente correlacionada com salário (**MonthlyIncome**), horas extras (**Overtime**), idade (**Age**), nível hierárquico do trabalho (**JobLevel**), status de relacionamento (**MaritalStatus**), anos no mercado de trabalho (**TotalWorkingYears**), anos no atual cargo (**YarsInCurrentRole**), e anos com atual gerente (**YearsWithCurrManager**), entre outros.\r\n",
        "- Satisfação com o trabalho (**JobSatisfaction**) está relacionada a evasão (**Attrition**), mas também desconfortavelmente relacionada ao gênero (**Gender**).\r\n",
        "- Salário (**MonthlyIncome**) é altamente correlacionado ao número total de anos do profissional no mercado de trabalho (**TotalWorkingYears**). \r\n",
        "- Salário (**MonthlyIncome**) também é correlacionado ao nível hierárquivo da profissão (**JobLevel**)\r\n",
        "- Em menor grau, salário (**MonthlyIncome**) é correlacionado à idade do profissional (**Age**) e anos trabalhados na empresa (**YearsAtCompany**). \r\n",
        "- Ainda em menor escala, salário também é correlacionado com anos no papel atual (**YearsInCurrentRole**), anos desde a última promoção (**YearsSinceLastPromotion**), e anos com o atual gerente (**YearsWithCurrManager**).\r\n",
        "- Estas últimas variáveis são bastante correlacionáveis entre si: anos trabalhados na empresa (**YearsAtCompany**), anos no papel atual (**YearsInCurrentRole**), anos desde a última promoção (**YearsSinceLastPromotion**), e anos com o atual gerente (**YearsWithCurrManager**).\r\n",
        "- As quatro variáveis acima (**YearsAtCompany**, **YearsInCurrentRole**, **YearsSinceLastPromotion**, **YearsWithCurrManager**) também são correlacionadas em menor escala com salário (**MonthlyIncome**) e nível hierárquivo da profissão (**JobLevel**), e em menor escala ainda, com idade (**Age**).\r\n",
        "- Algumas variáveis estão constantemente correlacionadas em menor grau entre si: educação (**Education**), anos do profissional no mercado de trabalho (**TotalWorkingYears**), número de empresas trabalhadas (**NumCompaniesWorked**), salário (**MonthlyIncome**), e nível hierárquivo da profissão (**JobLevel**).\r\n",
        "- A opção de ações da empresa no salário (**StockOptionsLevel**) possui maior correlação com a taxa de salário/hora (**HourlyRate**) e o número de identificação funcionário (**EmployeeNumber**). \r\n",
        "- Satisfação com relacionamentos dentro da empresa (**RelationshipSatisfaction**) apresentam uma correlação inversa com as variáveis apresentadas acima (**EmployeeNumber** e **StockOptionsLevel**).\r\n",
        "- Correlação entre escalada salarial (**PercentSalaryHike**) e performance(**PerformanceRating**)..\r\n",
        "- Alta correlação entre departamento (**Deparment**) e papel profissional (**JobRole**).\r\n",
        "\r\n",
        "Vamos explorar cada item para entender seus padrões de forma mais assertiva."
      ]
    },
    {
      "cell_type": "code",
      "metadata": {
        "colab": {
          "base_uri": "https://localhost:8080/"
        },
        "id": "YdidngGe3D9m",
        "outputId": "5a8c9bad-53c6-4dcd-93f3-d0a0b3df6464"
      },
      "source": [
        "df['Attrition'].value_counts()"
      ],
      "execution_count": 10,
      "outputs": [
        {
          "output_type": "execute_result",
          "data": {
            "text/plain": [
              "No     1233\n",
              "Yes     237\n",
              "Name: Attrition, dtype: int64"
            ]
          },
          "metadata": {
            "tags": []
          },
          "execution_count": 10
        }
      ]
    },
    {
      "cell_type": "code",
      "metadata": {
        "colab": {
          "base_uri": "https://localhost:8080/"
        },
        "id": "nJ1Nv5Bb2CRj",
        "outputId": "6ba6402c-9886-47e0-867b-f9f6b6d3ebc8"
      },
      "source": [
        "print(pd.DataFrame({'Percentage (%)': (df.groupby(('Attrition')).size()*100) / len(df)}))"
      ],
      "execution_count": 11,
      "outputs": [
        {
          "output_type": "stream",
          "text": [
            "           Percentage (%)\n",
            "Attrition                \n",
            "No              83.877551\n",
            "Yes             16.122449\n"
          ],
          "name": "stdout"
        }
      ]
    },
    {
      "cell_type": "markdown",
      "metadata": {
        "id": "d6C3DCe27Mi_"
      },
      "source": [
        "Isso requer atenção durante a modelagem porque os dados são *desbalanceados* com relação à evasão. Ao avaliarmos o modelo, seria útil balancear o modelo; ou seja, compararmos proporções semelhantes de Yes/No Attrition. Veremos as consequências deste desbalanço ao final deste notebook, na modelagem de dados."
      ]
    },
    {
      "cell_type": "markdown",
      "metadata": {
        "id": "N4_etHrhzzGc"
      },
      "source": [
        "### Idade\r\n",
        "\r\n",
        "- Funcionários jovens entre 20-30 possuem grande chance de saírem.\r\n",
        "- Evasão de funcionários diminui proporcionalmente com o aumento de idade na faixa dos 30-40 anos.\r\n",
        "- Evasão volta a crescer proporcionalmente o aumento de idade após os 40 anos, talvez impulsionados pela aposentadoria de funcionários."
      ]
    },
    {
      "cell_type": "code",
      "metadata": {
        "colab": {
          "base_uri": "https://localhost:8080/",
          "height": 369
        },
        "id": "BmiskoS-NxrC",
        "outputId": "e6581bb2-005c-46ca-ae0b-459ad57089cf"
      },
      "source": [
        "sns.displot(df, x=\"Age\", hue=\"Attrition\", element=\"step\");"
      ],
      "execution_count": 12,
      "outputs": [
        {
          "output_type": "display_data",
          "data": {
            "image/png": "[encoded data removed]",
            "text/plain": [
              "<Figure size 412x360 with 1 Axes>"
            ]
          },
          "metadata": {
            "tags": [],
            "needs_background": "light"
          }
        }
      ]
    },
    {
      "cell_type": "markdown",
      "metadata": {
        "id": "GZwGW9rB7Haz"
      },
      "source": [
        "Para quantitativizar essa medida, vamos dividir a tabela em funcionários perdidos (**Attrition** == 1) e funcionários mantidos (**Attrition** == 0). Depois, mediremos a assimetria e curtose dos respectivos conjuntos. "
      ]
    },
    {
      "cell_type": "code",
      "metadata": {
        "id": "QZ89qZ_W7F7d"
      },
      "source": [
        "yes_attrition_df = df_encoded.loc[df_encoded['Attrition'] == 1]\r\n",
        "no_attrition_df = df_encoded.loc[df_encoded['Attrition'] == 0]"
      ],
      "execution_count": 13,
      "outputs": []
    },
    {
      "cell_type": "code",
      "metadata": {
        "colab": {
          "base_uri": "https://localhost:8080/"
        },
        "id": "ufrG6vrONYyt",
        "outputId": "f8ca3b49-1741-43dc-d730-555b13185fca"
      },
      "source": [
        "print(\"Funcionários perdidos (por idade):\")\r\n",
        "print(\"Assimetria: %f\" % yes_attrition_df['Age'].skew())\r\n",
        "print(\"Curtose: %f\" % yes_attrition_df['Age'].kurt())\r\n",
        "print(\"======\")\r\n",
        "print(\"Funcionários mantidos (por idade):\")\r\n",
        "print(\"Assimetria: %f\" % no_attrition_df['Age'].skew())\r\n",
        "print(\"Curtose: %f\" % no_attrition_df['Age'].kurt())"
      ],
      "execution_count": 14,
      "outputs": [
        {
          "output_type": "stream",
          "text": [
            "Funcionários perdidos (por idade):\n",
            "Assimetria: 0.715732\n",
            "Curtose: -0.057044\n",
            "======\n",
            "Funcionários mantidos (por idade):\n",
            "Assimetria: 0.408122\n",
            "Curtose: -0.411835\n"
          ],
          "name": "stdout"
        }
      ]
    },
    {
      "cell_type": "markdown",
      "metadata": {
        "id": "LC8Wv68fFbgw"
      },
      "source": [
        "### Viagem a negócios"
      ]
    },
    {
      "cell_type": "code",
      "metadata": {
        "colab": {
          "base_uri": "https://localhost:8080/",
          "height": 280
        },
        "id": "k2zx80DqFa1f",
        "outputId": "64f5b0c6-4ffd-4d18-d8aa-f3f77b4b27df"
      },
      "source": [
        "sns.countplot(x=\"BusinessTravel\", hue=\"Attrition\", data=df);"
      ],
      "execution_count": 15,
      "outputs": [
        {
          "output_type": "display_data",
          "data": {
            "image/png": "[encoded data removed]",
            "text/plain": [
              "<Figure size 432x288 with 1 Axes>"
            ]
          },
          "metadata": {
            "tags": [],
            "needs_background": "light"
          }
        }
      ]
    },
    {
      "cell_type": "markdown",
      "metadata": {
        "id": "ib9AIIyXzQiK"
      },
      "source": [
        "### Departamento"
      ]
    },
    {
      "cell_type": "code",
      "metadata": {
        "colab": {
          "base_uri": "https://localhost:8080/",
          "height": 279
        },
        "id": "h-aRIQyNFsgl",
        "outputId": "ff2a049c-68f6-4fe0-fa8f-a221bd2441c3"
      },
      "source": [
        "sns.countplot(x=\"Department\", hue=\"Attrition\", data=df);"
      ],
      "execution_count": 16,
      "outputs": [
        {
          "output_type": "display_data",
          "data": {
            "image/png": "[encoded data removed]",
            "text/plain": [
              "<Figure size 432x288 with 1 Axes>"
            ]
          },
          "metadata": {
            "tags": [],
            "needs_background": "light"
          }
        }
      ]
    },
    {
      "cell_type": "markdown",
      "metadata": {
        "id": "Tk-kdBCQzVQD"
      },
      "source": [
        "### Distância de casa"
      ]
    },
    {
      "cell_type": "code",
      "metadata": {
        "colab": {
          "base_uri": "https://localhost:8080/",
          "height": 369
        },
        "id": "OVGk2Hu_GT5V",
        "outputId": "ab40ce3f-57d2-4125-e9ce-dba541c095ba"
      },
      "source": [
        "sns.displot(df, x=\"DistanceFromHome\", hue=\"Attrition\", element=\"step\");"
      ],
      "execution_count": 17,
      "outputs": [
        {
          "output_type": "display_data",
          "data": {
            "image/png": "[encoded data removed]",
            "text/plain": [
              "<Figure size 412x360 with 1 Axes>"
            ]
          },
          "metadata": {
            "tags": [],
            "needs_background": "light"
          }
        }
      ]
    },
    {
      "cell_type": "markdown",
      "metadata": {
        "id": "TdlJRTXZFB2j"
      },
      "source": [
        "### Educação"
      ]
    },
    {
      "cell_type": "code",
      "metadata": {
        "colab": {
          "base_uri": "https://localhost:8080/",
          "height": 279
        },
        "id": "01SiB_LqJ6fC",
        "outputId": "f830dbc2-2f50-429f-e469-4c0e8555f037"
      },
      "source": [
        "sns.countplot(x=\"Education\", hue=\"Attrition\", data=df);"
      ],
      "execution_count": 18,
      "outputs": [
        {
          "output_type": "display_data",
          "data": {
            "image/png": "[encoded data removed]",
            "text/plain": [
              "<Figure size 432x288 with 1 Axes>"
            ]
          },
          "metadata": {
            "tags": [],
            "needs_background": "light"
          }
        }
      ]
    },
    {
      "cell_type": "markdown",
      "metadata": {
        "id": "7EyAaeFXp5mv"
      },
      "source": [
        "### Número de identificação do funcionário\r\n",
        "\r\n",
        "Existe um balanço entre a proporção de evasão e o número de identificação do funcionário."
      ]
    },
    {
      "cell_type": "code",
      "metadata": {
        "colab": {
          "base_uri": "https://localhost:8080/",
          "height": 369
        },
        "id": "jLb4QvHmp6BU",
        "outputId": "db48033a-b877-4a4a-84de-2acaf9161de4"
      },
      "source": [
        "sns.displot(x=\"EmployeeNumber\", hue=\"Attrition\", data=df, element=\"step\");"
      ],
      "execution_count": 19,
      "outputs": [
        {
          "output_type": "display_data",
          "data": {
            "image/png": "[encoded data removed]",
            "text/plain": [
              "<Figure size 412x360 with 1 Axes>"
            ]
          },
          "metadata": {
            "tags": [],
            "needs_background": "light"
          }
        }
      ]
    },
    {
      "cell_type": "markdown",
      "metadata": {
        "id": "uubuuZd-FEUG"
      },
      "source": [
        "### Cargo"
      ]
    },
    {
      "cell_type": "code",
      "metadata": {
        "colab": {
          "base_uri": "https://localhost:8080/",
          "height": 288
        },
        "id": "xFgUdET4KiSu",
        "outputId": "eec70d2f-c1c8-4be7-a3f0-d2c766d49640"
      },
      "source": [
        "sns.countplot(y=\"JobRole\", hue=\"Attrition\", data=df)\r\n",
        "plt.xticks(rotation=90);"
      ],
      "execution_count": 20,
      "outputs": [
        {
          "output_type": "display_data",
          "data": {
            "image/png": "[encoded data removed]",
            "text/plain": [
              "<Figure size 432x288 with 1 Axes>"
            ]
          },
          "metadata": {
            "tags": [],
            "needs_background": "light"
          }
        }
      ]
    },
    {
      "cell_type": "markdown",
      "metadata": {
        "id": "1V0-vg-vFORS"
      },
      "source": [
        "### Salário e gênero\r\n",
        "\r\n",
        "Diagrams tipo violino são interessantes para mostrar uma variável contínua (**MonthlyIncome**) vs. categórica (**Attrition**) vs. binária (**Gender**).\r\n",
        "\r\n",
        "Ao compararmos as curvas de ambos os gêneros, observamos:\r\n",
        "\r\n",
        "- Mulheres com salário acima de 750 tendem a evadir com menor frequência do que homens.\r\n",
        "\r\n",
        "- Mulheres com salário acima de 1500 tendem a evadir com maior frequência do que homens."
      ]
    },
    {
      "cell_type": "code",
      "metadata": {
        "colab": {
          "base_uri": "https://localhost:8080/",
          "height": 279
        },
        "id": "GeVePk5YMom6",
        "outputId": "529060d4-a1e9-4a5f-e7ad-0217b8b31259"
      },
      "source": [
        "sns.violinplot(data=df, x=\"Attrition\", y=\"MonthlyIncome\", hue=\"Gender\",\r\n",
        "               split=True, inner=\"quart\", linewidth=1)\r\n",
        "sns.despine(left=True)"
      ],
      "execution_count": 21,
      "outputs": [
        {
          "output_type": "display_data",
          "data": {
            "image/png": "[encoded data removed]",
            "text/plain": [
              "<Figure size 432x288 with 1 Axes>"
            ]
          },
          "metadata": {
            "tags": [],
            "needs_background": "light"
          }
        }
      ]
    },
    {
      "cell_type": "markdown",
      "metadata": {
        "id": "q_qv1to6FRoS"
      },
      "source": [
        "### Escalada salarial\r\n",
        "\r\n",
        "Ainda que a proporcionalidade da evasão aumente com a escalada salarial, isso não significa que uma maior escalada salarial seja ruim para o funcionário - muito pelo contrário. O que pode estar acontecendo é que o aumento da idade leva ao aumento da escalada salarial, e consequentemente, ao aumento da evasão por aposentadoria."
      ]
    },
    {
      "cell_type": "code",
      "metadata": {
        "colab": {
          "base_uri": "https://localhost:8080/",
          "height": 369
        },
        "id": "Qgla8R4JL24E",
        "outputId": "5efcfcc2-074b-4a11-f9ae-13835d6d9aca"
      },
      "source": [
        "sns.displot(x=\"PercentSalaryHike\", hue=\"Attrition\", data=df, element=\"step\");"
      ],
      "execution_count": 22,
      "outputs": [
        {
          "output_type": "display_data",
          "data": {
            "image/png": "[encoded data removed]",
            "text/plain": [
              "<Figure size 412x360 with 1 Axes>"
            ]
          },
          "metadata": {
            "tags": [],
            "needs_background": "light"
          }
        }
      ]
    },
    {
      "cell_type": "markdown",
      "metadata": {
        "id": "mInxXyKoFVjr"
      },
      "source": [
        "## Nível hierárquico da profissão\r\n",
        "\r\n",
        "Em termos gerais, a evasão diminui com o aumento do nível da profissão. "
      ]
    },
    {
      "cell_type": "code",
      "metadata": {
        "colab": {
          "base_uri": "https://localhost:8080/",
          "height": 281
        },
        "id": "IsAfCYohfFeR",
        "outputId": "69237880-f5f5-42f7-fe3b-40910e7263fb"
      },
      "source": [
        "sns.countplot(x=\"JobLevel\", hue=\"Attrition\", data=df);"
      ],
      "execution_count": 23,
      "outputs": [
        {
          "output_type": "display_data",
          "data": {
            "image/png": "[encoded data removed]",
            "text/plain": [
              "<Figure size 432x288 with 1 Axes>"
            ]
          },
          "metadata": {
            "tags": [],
            "needs_background": "light"
          }
        }
      ]
    },
    {
      "cell_type": "markdown",
      "metadata": {
        "id": "8tgYOyu_FalB"
      },
      "source": [
        "### Status de relacionamento"
      ]
    },
    {
      "cell_type": "code",
      "metadata": {
        "colab": {
          "base_uri": "https://localhost:8080/",
          "height": 279
        },
        "id": "kSAFIZLHL3Cw",
        "outputId": "d51ecb84-80a4-418f-a231-6f2465e5d135"
      },
      "source": [
        "sns.countplot(x=\"MaritalStatus\", hue=\"Attrition\", data=df);"
      ],
      "execution_count": 24,
      "outputs": [
        {
          "output_type": "display_data",
          "data": {
            "image/png": "[encoded data removed]",
            "text/plain": [
              "<Figure size 432x288 with 1 Axes>"
            ]
          },
          "metadata": {
            "tags": [],
            "needs_background": "light"
          }
        }
      ]
    },
    {
      "cell_type": "markdown",
      "metadata": {
        "id": "pGQG62LZFrPw"
      },
      "source": [
        "### Anos totais de trabalho"
      ]
    },
    {
      "cell_type": "code",
      "metadata": {
        "colab": {
          "base_uri": "https://localhost:8080/",
          "height": 369
        },
        "id": "hpPYZ5ZZk2Yp",
        "outputId": "65a1e200-447b-4b63-f236-bbdefc7820ea"
      },
      "source": [
        "sns.displot(x=\"TotalWorkingYears\", hue=\"Attrition\", data=df, element=\"step\");"
      ],
      "execution_count": 25,
      "outputs": [
        {
          "output_type": "display_data",
          "data": {
            "image/png": "[encoded data removed]",
            "text/plain": [
              "<Figure size 412x360 with 1 Axes>"
            ]
          },
          "metadata": {
            "tags": [],
            "needs_background": "light"
          }
        }
      ]
    },
    {
      "cell_type": "markdown",
      "metadata": {
        "id": "hln1GcVwF4bq"
      },
      "source": [
        "### Nível de opções por ações"
      ]
    },
    {
      "cell_type": "code",
      "metadata": {
        "colab": {
          "base_uri": "https://localhost:8080/",
          "height": 279
        },
        "id": "RUBtlzU8pNR0",
        "outputId": "83619b9a-52ec-40c7-c0cd-fa81290a855e"
      },
      "source": [
        "sns.countplot(x=\"StockOptionLevel\", hue=\"Attrition\", data=df);"
      ],
      "execution_count": 26,
      "outputs": [
        {
          "output_type": "display_data",
          "data": {
            "image/png": "[encoded data removed]",
            "text/plain": [
              "<Figure size 432x288 with 1 Axes>"
            ]
          },
          "metadata": {
            "tags": [],
            "needs_background": "light"
          }
        }
      ]
    },
    {
      "cell_type": "markdown",
      "metadata": {
        "id": "JfK_H3yKFv7A"
      },
      "source": [
        "### Nível de opções por ações e status de relacionamento\r\n",
        "\r\n",
        "A opção de ações nº **0** é a única que aloca pessoas solteiras (**Single**). Isso pode ter sido ditado por algum regimento interno na empresa. Por isso, estas variáveis aparecem fortemente correlacionadas na matriz de correlação."
      ]
    },
    {
      "cell_type": "code",
      "metadata": {
        "colab": {
          "base_uri": "https://localhost:8080/",
          "height": 279
        },
        "id": "uUtuGJuSoFxq",
        "outputId": "8084d6d1-b8ec-40f8-9b06-7ee56076a8b1"
      },
      "source": [
        "sns.countplot(x=\"StockOptionLevel\", hue=\"MaritalStatus\", data=df);"
      ],
      "execution_count": 27,
      "outputs": [
        {
          "output_type": "display_data",
          "data": {
            "image/png": "[encoded data removed]",
            "text/plain": [
              "<Figure size 432x288 with 1 Axes>"
            ]
          },
          "metadata": {
            "tags": [],
            "needs_background": "light"
          }
        }
      ]
    },
    {
      "cell_type": "markdown",
      "metadata": {
        "id": "j_CN9V0EFtH1"
      },
      "source": [
        "## Seleção de variáveis (*feature selection*)"
      ]
    },
    {
      "cell_type": "markdown",
      "metadata": {
        "id": "YHQC4KlsGEqw"
      },
      "source": [
        "Ainda que tenhamos analisado de formas bastante gerais quais variáveis são influenciadas pela evasão, devemos desvinciliar nosso modelo de suposições pessoais e provavelmente enviesadas sobre os dados.\r\n",
        "\r\n",
        "É difícil hierarquizar qualitativamente estas variáveis por nível de influência sobre a evasão. Portanto, iremos definir quantitativamente estas variáveis. Neste caso, utilizaremos o teste qui-quadrado (χ2, *chi-squared test*)."
      ]
    },
    {
      "cell_type": "code",
      "metadata": {
        "id": "hGx2hEXJJind"
      },
      "source": [
        "target = df_encoded['Attrition'] # definir variável-alvo\r\n",
        "features = df_encoded.drop(['Attrition'], axis=1) # definir variáveis\r\n",
        "col_values = list(features.columns.values)"
      ],
      "execution_count": 28,
      "outputs": []
    },
    {
      "cell_type": "markdown",
      "metadata": {
        "id": "Ht3kzMfjLttL"
      },
      "source": [
        "\r\n",
        "### chi-square test"
      ]
    },
    {
      "cell_type": "code",
      "metadata": {
        "colab": {
          "base_uri": "https://localhost:8080/"
        },
        "id": "cNohIDlfJ7Cw",
        "outputId": "e5423a57-88a2-411a-e54e-60e9441f2e7b"
      },
      "source": [
        "from sklearn.feature_selection import chi2\r\n",
        "\r\n",
        "feature_scores = chi2(features, target)[0]\r\n",
        "for score, fname in sorted(zip(feature_scores, col_values), reverse=True)[:30]:\r\n",
        "    print('chi-square', fname, score)"
      ],
      "execution_count": 29,
      "outputs": [
        {
          "output_type": "stream",
          "text": [
            "chi-square MonthlyIncome 127922.29369381821\n",
            "chi-square MonthlyRate 1196.633552569816\n",
            "chi-square DailyRate 956.5804943555729\n",
            "chi-square Over18 nan\n",
            "chi-square TotalWorkingYears 230.72161773754925\n",
            "chi-square YearsAtCompany 142.10005430324915\n",
            "chi-square YearsInCurrentRole 117.5225958913567\n",
            "chi-square YearsWithCurrManager 110.6715338985734\n",
            "chi-square Age 84.15527681001525\n",
            "chi-square OverTime 63.84506671452294\n",
            "chi-square DistanceFromHome 63.77214163101213\n",
            "chi-square EmployeeNumber 58.120325954212234\n",
            "chi-square StockOptionLevel 25.26882603175403\n",
            "chi-square JobLevel 24.93924234571862\n",
            "chi-square MaritalStatus 18.745657458341153\n",
            "chi-square JobRole 9.004448467467538\n",
            "chi-square YearsSinceLastPromotion 7.601723473243281\n",
            "chi-square JobSatisfaction 7.011946634881222\n",
            "chi-square EnvironmentSatisfaction 6.890594338387591\n",
            "chi-square NumCompaniesWorked 6.438654443594589\n",
            "chi-square JobInvolvement 4.60561606667209\n",
            "chi-square TrainingTimesLastYear 3.0857961647837113\n",
            "chi-square RelationshipSatisfaction 1.3323328613738212\n",
            "chi-square Department 1.329297319538817\n",
            "chi-square WorkLifeBalance 1.0855429627263784\n",
            "chi-square EducationField 0.8349116314857883\n",
            "chi-square Education 0.5206422239074934\n",
            "chi-square Gender 0.5100865440882075\n",
            "chi-square HourlyRate 0.4317790898209484\n",
            "chi-square PercentSalaryHike 0.2350268575624977\n"
          ],
          "name": "stdout"
        }
      ]
    },
    {
      "cell_type": "markdown",
      "metadata": {
        "id": "HmiXyNrgzcjz"
      },
      "source": [
        "## Dummy variables\r\n",
        "Observando os resultados acima, vamos criar uma matriz esparsa com as variáveis categóricas. Consideraremos variáveis categóricas aquelas que não possuem valor ordinal. Ou seja, aquelas variáveis cujo significado numeral deve ser consultado e não pode ser deduzido apenas pelo seu valor. \r\n",
        "\r\n",
        "Exemplos: **'OverTime', 'StockOptionLevel', 'JobLevel', 'JobRole', 'MaritalStatus', 'JobSatisfaction', 'EnvironmentSatisfaction'**."
      ]
    },
    {
      "cell_type": "code",
      "metadata": {
        "id": "-IdEBnVsTAAO"
      },
      "source": [
        "dfs = df_encoded[['MonthlyIncome', 'MonthlyRate', 'DailyRate', 'TotalWorkingYears', 'YearsAtCompany', 'YearsInCurrentRole', 'YearsWithCurrManager',\r\n",
        "                  'Age', 'DistanceFromHome', 'EmployeeNumber', 'YearsSinceLastPromotion']] # tomar cuidado com o EmployeeNumber\r\n",
        "cat = df_encoded[['OverTime', 'StockOptionLevel', 'JobLevel', 'JobRole', 'MaritalStatus', 'JobSatisfaction', 'EnvironmentSatisfaction',\r\n",
        "                  'NumCompaniesWorked', 'JobInvolvement', 'TrainingTimesLastYear', 'RelationshipSatisfaction', 'Department', 'WorkLifeBalance']].astype('category')"
      ],
      "execution_count": 30,
      "outputs": []
    },
    {
      "cell_type": "code",
      "metadata": {
        "colab": {
          "base_uri": "https://localhost:8080/",
          "height": 224
        },
        "id": "k4oK1M11JUZK",
        "outputId": "1b2fe4bb-fc35-4570-8a78-fb035ab0886b"
      },
      "source": [
        "cat = pd.get_dummies(cat)\r\n",
        "cat.head()"
      ],
      "execution_count": 31,
      "outputs": [
        {
          "output_type": "execute_result",
          "data": {
            "text/html": [
              "<div>\n",
              "<style scoped>\n",
              "    .dataframe tbody tr th:only-of-type {\n",
              "        vertical-align: middle;\n",
              "    }\n",
              "\n",
              "    .dataframe tbody tr th {\n",
              "        vertical-align: top;\n",
              "    }\n",
              "\n",
              "    .dataframe thead th {\n",
              "        text-align: right;\n",
              "    }\n",
              "</style>\n",
              "<table border=\"1\" class=\"dataframe\">\n",
              "  <thead>\n",
              "    <tr style=\"text-align: right;\">\n",
              "      <th></th>\n",
              "      <th>OverTime_0</th>\n",
              "      <th>OverTime_1</th>\n",
              "      <th>StockOptionLevel_0</th>\n",
              "      <th>StockOptionLevel_1</th>\n",
              "      <th>StockOptionLevel_2</th>\n",
              "      <th>StockOptionLevel_3</th>\n",
              "      <th>JobLevel_1</th>\n",
              "      <th>JobLevel_2</th>\n",
              "      <th>JobLevel_3</th>\n",
              "      <th>JobLevel_4</th>\n",
              "      <th>JobLevel_5</th>\n",
              "      <th>JobRole_0</th>\n",
              "      <th>JobRole_1</th>\n",
              "      <th>JobRole_2</th>\n",
              "      <th>JobRole_3</th>\n",
              "      <th>JobRole_4</th>\n",
              "      <th>JobRole_5</th>\n",
              "      <th>JobRole_6</th>\n",
              "      <th>JobRole_7</th>\n",
              "      <th>JobRole_8</th>\n",
              "      <th>MaritalStatus_0</th>\n",
              "      <th>MaritalStatus_1</th>\n",
              "      <th>MaritalStatus_2</th>\n",
              "      <th>JobSatisfaction_1</th>\n",
              "      <th>JobSatisfaction_2</th>\n",
              "      <th>JobSatisfaction_3</th>\n",
              "      <th>JobSatisfaction_4</th>\n",
              "      <th>EnvironmentSatisfaction_1</th>\n",
              "      <th>EnvironmentSatisfaction_2</th>\n",
              "      <th>EnvironmentSatisfaction_3</th>\n",
              "      <th>EnvironmentSatisfaction_4</th>\n",
              "      <th>NumCompaniesWorked_0</th>\n",
              "      <th>NumCompaniesWorked_1</th>\n",
              "      <th>NumCompaniesWorked_2</th>\n",
              "      <th>NumCompaniesWorked_3</th>\n",
              "      <th>NumCompaniesWorked_4</th>\n",
              "      <th>NumCompaniesWorked_5</th>\n",
              "      <th>NumCompaniesWorked_6</th>\n",
              "      <th>NumCompaniesWorked_7</th>\n",
              "      <th>NumCompaniesWorked_8</th>\n",
              "      <th>NumCompaniesWorked_9</th>\n",
              "      <th>JobInvolvement_1</th>\n",
              "      <th>JobInvolvement_2</th>\n",
              "      <th>JobInvolvement_3</th>\n",
              "      <th>JobInvolvement_4</th>\n",
              "      <th>TrainingTimesLastYear_0</th>\n",
              "      <th>TrainingTimesLastYear_1</th>\n",
              "      <th>TrainingTimesLastYear_2</th>\n",
              "      <th>TrainingTimesLastYear_3</th>\n",
              "      <th>TrainingTimesLastYear_4</th>\n",
              "      <th>TrainingTimesLastYear_5</th>\n",
              "      <th>TrainingTimesLastYear_6</th>\n",
              "      <th>RelationshipSatisfaction_1</th>\n",
              "      <th>RelationshipSatisfaction_2</th>\n",
              "      <th>RelationshipSatisfaction_3</th>\n",
              "      <th>RelationshipSatisfaction_4</th>\n",
              "      <th>Department_0</th>\n",
              "      <th>Department_1</th>\n",
              "      <th>Department_2</th>\n",
              "      <th>WorkLifeBalance_1</th>\n",
              "      <th>WorkLifeBalance_2</th>\n",
              "      <th>WorkLifeBalance_3</th>\n",
              "      <th>WorkLifeBalance_4</th>\n",
              "    </tr>\n",
              "  </thead>\n",
              "  <tbody>\n",
              "    <tr>\n",
              "      <th>0</th>\n",
              "      <td>0</td>\n",
              "      <td>1</td>\n",
              "      <td>1</td>\n",
              "      <td>0</td>\n",
              "      <td>0</td>\n",
              "      <td>0</td>\n",
              "      <td>0</td>\n",
              "      <td>1</td>\n",
              "      <td>0</td>\n",
              "      <td>0</td>\n",
              "      <td>0</td>\n",
              "      <td>0</td>\n",
              "      <td>0</td>\n",
              "      <td>0</td>\n",
              "      <td>0</td>\n",
              "      <td>0</td>\n",
              "      <td>0</td>\n",
              "      <td>0</td>\n",
              "      <td>1</td>\n",
              "      <td>0</td>\n",
              "      <td>0</td>\n",
              "      <td>0</td>\n",
              "      <td>1</td>\n",
              "      <td>0</td>\n",
              "      <td>0</td>\n",
              "      <td>0</td>\n",
              "      <td>1</td>\n",
              "      <td>0</td>\n",
              "      <td>1</td>\n",
              "      <td>0</td>\n",
              "      <td>0</td>\n",
              "      <td>0</td>\n",
              "      <td>0</td>\n",
              "      <td>0</td>\n",
              "      <td>0</td>\n",
              "      <td>0</td>\n",
              "      <td>0</td>\n",
              "      <td>0</td>\n",
              "      <td>0</td>\n",
              "      <td>1</td>\n",
              "      <td>0</td>\n",
              "      <td>0</td>\n",
              "      <td>0</td>\n",
              "      <td>1</td>\n",
              "      <td>0</td>\n",
              "      <td>1</td>\n",
              "      <td>0</td>\n",
              "      <td>0</td>\n",
              "      <td>0</td>\n",
              "      <td>0</td>\n",
              "      <td>0</td>\n",
              "      <td>0</td>\n",
              "      <td>1</td>\n",
              "      <td>0</td>\n",
              "      <td>0</td>\n",
              "      <td>0</td>\n",
              "      <td>0</td>\n",
              "      <td>0</td>\n",
              "      <td>1</td>\n",
              "      <td>1</td>\n",
              "      <td>0</td>\n",
              "      <td>0</td>\n",
              "      <td>0</td>\n",
              "    </tr>\n",
              "    <tr>\n",
              "      <th>1</th>\n",
              "      <td>1</td>\n",
              "      <td>0</td>\n",
              "      <td>0</td>\n",
              "      <td>1</td>\n",
              "      <td>0</td>\n",
              "      <td>0</td>\n",
              "      <td>0</td>\n",
              "      <td>1</td>\n",
              "      <td>0</td>\n",
              "      <td>0</td>\n",
              "      <td>0</td>\n",
              "      <td>0</td>\n",
              "      <td>0</td>\n",
              "      <td>0</td>\n",
              "      <td>0</td>\n",
              "      <td>0</td>\n",
              "      <td>0</td>\n",
              "      <td>1</td>\n",
              "      <td>0</td>\n",
              "      <td>0</td>\n",
              "      <td>0</td>\n",
              "      <td>1</td>\n",
              "      <td>0</td>\n",
              "      <td>0</td>\n",
              "      <td>1</td>\n",
              "      <td>0</td>\n",
              "      <td>0</td>\n",
              "      <td>0</td>\n",
              "      <td>0</td>\n",
              "      <td>1</td>\n",
              "      <td>0</td>\n",
              "      <td>0</td>\n",
              "      <td>1</td>\n",
              "      <td>0</td>\n",
              "      <td>0</td>\n",
              "      <td>0</td>\n",
              "      <td>0</td>\n",
              "      <td>0</td>\n",
              "      <td>0</td>\n",
              "      <td>0</td>\n",
              "      <td>0</td>\n",
              "      <td>0</td>\n",
              "      <td>1</td>\n",
              "      <td>0</td>\n",
              "      <td>0</td>\n",
              "      <td>0</td>\n",
              "      <td>0</td>\n",
              "      <td>0</td>\n",
              "      <td>1</td>\n",
              "      <td>0</td>\n",
              "      <td>0</td>\n",
              "      <td>0</td>\n",
              "      <td>0</td>\n",
              "      <td>0</td>\n",
              "      <td>0</td>\n",
              "      <td>1</td>\n",
              "      <td>0</td>\n",
              "      <td>1</td>\n",
              "      <td>0</td>\n",
              "      <td>0</td>\n",
              "      <td>0</td>\n",
              "      <td>1</td>\n",
              "      <td>0</td>\n",
              "    </tr>\n",
              "    <tr>\n",
              "      <th>2</th>\n",
              "      <td>0</td>\n",
              "      <td>1</td>\n",
              "      <td>1</td>\n",
              "      <td>0</td>\n",
              "      <td>0</td>\n",
              "      <td>0</td>\n",
              "      <td>1</td>\n",
              "      <td>0</td>\n",
              "      <td>0</td>\n",
              "      <td>0</td>\n",
              "      <td>0</td>\n",
              "      <td>0</td>\n",
              "      <td>0</td>\n",
              "      <td>1</td>\n",
              "      <td>0</td>\n",
              "      <td>0</td>\n",
              "      <td>0</td>\n",
              "      <td>0</td>\n",
              "      <td>0</td>\n",
              "      <td>0</td>\n",
              "      <td>0</td>\n",
              "      <td>0</td>\n",
              "      <td>1</td>\n",
              "      <td>0</td>\n",
              "      <td>0</td>\n",
              "      <td>1</td>\n",
              "      <td>0</td>\n",
              "      <td>0</td>\n",
              "      <td>0</td>\n",
              "      <td>0</td>\n",
              "      <td>1</td>\n",
              "      <td>0</td>\n",
              "      <td>0</td>\n",
              "      <td>0</td>\n",
              "      <td>0</td>\n",
              "      <td>0</td>\n",
              "      <td>0</td>\n",
              "      <td>1</td>\n",
              "      <td>0</td>\n",
              "      <td>0</td>\n",
              "      <td>0</td>\n",
              "      <td>0</td>\n",
              "      <td>1</td>\n",
              "      <td>0</td>\n",
              "      <td>0</td>\n",
              "      <td>0</td>\n",
              "      <td>0</td>\n",
              "      <td>0</td>\n",
              "      <td>1</td>\n",
              "      <td>0</td>\n",
              "      <td>0</td>\n",
              "      <td>0</td>\n",
              "      <td>0</td>\n",
              "      <td>1</td>\n",
              "      <td>0</td>\n",
              "      <td>0</td>\n",
              "      <td>0</td>\n",
              "      <td>1</td>\n",
              "      <td>0</td>\n",
              "      <td>0</td>\n",
              "      <td>0</td>\n",
              "      <td>1</td>\n",
              "      <td>0</td>\n",
              "    </tr>\n",
              "    <tr>\n",
              "      <th>3</th>\n",
              "      <td>0</td>\n",
              "      <td>1</td>\n",
              "      <td>1</td>\n",
              "      <td>0</td>\n",
              "      <td>0</td>\n",
              "      <td>0</td>\n",
              "      <td>1</td>\n",
              "      <td>0</td>\n",
              "      <td>0</td>\n",
              "      <td>0</td>\n",
              "      <td>0</td>\n",
              "      <td>0</td>\n",
              "      <td>0</td>\n",
              "      <td>0</td>\n",
              "      <td>0</td>\n",
              "      <td>0</td>\n",
              "      <td>0</td>\n",
              "      <td>1</td>\n",
              "      <td>0</td>\n",
              "      <td>0</td>\n",
              "      <td>0</td>\n",
              "      <td>1</td>\n",
              "      <td>0</td>\n",
              "      <td>0</td>\n",
              "      <td>0</td>\n",
              "      <td>1</td>\n",
              "      <td>0</td>\n",
              "      <td>0</td>\n",
              "      <td>0</td>\n",
              "      <td>0</td>\n",
              "      <td>1</td>\n",
              "      <td>0</td>\n",
              "      <td>1</td>\n",
              "      <td>0</td>\n",
              "      <td>0</td>\n",
              "      <td>0</td>\n",
              "      <td>0</td>\n",
              "      <td>0</td>\n",
              "      <td>0</td>\n",
              "      <td>0</td>\n",
              "      <td>0</td>\n",
              "      <td>0</td>\n",
              "      <td>0</td>\n",
              "      <td>1</td>\n",
              "      <td>0</td>\n",
              "      <td>0</td>\n",
              "      <td>0</td>\n",
              "      <td>0</td>\n",
              "      <td>1</td>\n",
              "      <td>0</td>\n",
              "      <td>0</td>\n",
              "      <td>0</td>\n",
              "      <td>0</td>\n",
              "      <td>0</td>\n",
              "      <td>1</td>\n",
              "      <td>0</td>\n",
              "      <td>0</td>\n",
              "      <td>1</td>\n",
              "      <td>0</td>\n",
              "      <td>0</td>\n",
              "      <td>0</td>\n",
              "      <td>1</td>\n",
              "      <td>0</td>\n",
              "    </tr>\n",
              "    <tr>\n",
              "      <th>4</th>\n",
              "      <td>1</td>\n",
              "      <td>0</td>\n",
              "      <td>0</td>\n",
              "      <td>1</td>\n",
              "      <td>0</td>\n",
              "      <td>0</td>\n",
              "      <td>1</td>\n",
              "      <td>0</td>\n",
              "      <td>0</td>\n",
              "      <td>0</td>\n",
              "      <td>0</td>\n",
              "      <td>0</td>\n",
              "      <td>0</td>\n",
              "      <td>1</td>\n",
              "      <td>0</td>\n",
              "      <td>0</td>\n",
              "      <td>0</td>\n",
              "      <td>0</td>\n",
              "      <td>0</td>\n",
              "      <td>0</td>\n",
              "      <td>0</td>\n",
              "      <td>1</td>\n",
              "      <td>0</td>\n",
              "      <td>0</td>\n",
              "      <td>1</td>\n",
              "      <td>0</td>\n",
              "      <td>0</td>\n",
              "      <td>1</td>\n",
              "      <td>0</td>\n",
              "      <td>0</td>\n",
              "      <td>0</td>\n",
              "      <td>0</td>\n",
              "      <td>0</td>\n",
              "      <td>0</td>\n",
              "      <td>0</td>\n",
              "      <td>0</td>\n",
              "      <td>0</td>\n",
              "      <td>0</td>\n",
              "      <td>0</td>\n",
              "      <td>0</td>\n",
              "      <td>1</td>\n",
              "      <td>0</td>\n",
              "      <td>0</td>\n",
              "      <td>1</td>\n",
              "      <td>0</td>\n",
              "      <td>0</td>\n",
              "      <td>0</td>\n",
              "      <td>0</td>\n",
              "      <td>1</td>\n",
              "      <td>0</td>\n",
              "      <td>0</td>\n",
              "      <td>0</td>\n",
              "      <td>0</td>\n",
              "      <td>0</td>\n",
              "      <td>0</td>\n",
              "      <td>1</td>\n",
              "      <td>0</td>\n",
              "      <td>1</td>\n",
              "      <td>0</td>\n",
              "      <td>0</td>\n",
              "      <td>0</td>\n",
              "      <td>1</td>\n",
              "      <td>0</td>\n",
              "    </tr>\n",
              "  </tbody>\n",
              "</table>\n",
              "</div>"
            ],
            "text/plain": [
              "   OverTime_0  OverTime_1  ...  WorkLifeBalance_3  WorkLifeBalance_4\n",
              "0           0           1  ...                  0                  0\n",
              "1           1           0  ...                  1                  0\n",
              "2           0           1  ...                  1                  0\n",
              "3           0           1  ...                  1                  0\n",
              "4           1           0  ...                  1                  0\n",
              "\n",
              "[5 rows x 63 columns]"
            ]
          },
          "metadata": {
            "tags": []
          },
          "execution_count": 31
        }
      ]
    },
    {
      "cell_type": "code",
      "metadata": {
        "colab": {
          "base_uri": "https://localhost:8080/",
          "height": 224
        },
        "id": "zOJaTmrfJnXx",
        "outputId": "5b0a08e3-cb67-4322-ac6c-61427cec227e"
      },
      "source": [
        "df_final = pd.concat([dfs, cat], axis=1)\r\n",
        "df_final.head()"
      ],
      "execution_count": 32,
      "outputs": [
        {
          "output_type": "execute_result",
          "data": {
            "text/html": [
              "<div>\n",
              "<style scoped>\n",
              "    .dataframe tbody tr th:only-of-type {\n",
              "        vertical-align: middle;\n",
              "    }\n",
              "\n",
              "    .dataframe tbody tr th {\n",
              "        vertical-align: top;\n",
              "    }\n",
              "\n",
              "    .dataframe thead th {\n",
              "        text-align: right;\n",
              "    }\n",
              "</style>\n",
              "<table border=\"1\" class=\"dataframe\">\n",
              "  <thead>\n",
              "    <tr style=\"text-align: right;\">\n",
              "      <th></th>\n",
              "      <th>MonthlyIncome</th>\n",
              "      <th>MonthlyRate</th>\n",
              "      <th>DailyRate</th>\n",
              "      <th>TotalWorkingYears</th>\n",
              "      <th>YearsAtCompany</th>\n",
              "      <th>YearsInCurrentRole</th>\n",
              "      <th>YearsWithCurrManager</th>\n",
              "      <th>Age</th>\n",
              "      <th>DistanceFromHome</th>\n",
              "      <th>EmployeeNumber</th>\n",
              "      <th>YearsSinceLastPromotion</th>\n",
              "      <th>OverTime_0</th>\n",
              "      <th>OverTime_1</th>\n",
              "      <th>StockOptionLevel_0</th>\n",
              "      <th>StockOptionLevel_1</th>\n",
              "      <th>StockOptionLevel_2</th>\n",
              "      <th>StockOptionLevel_3</th>\n",
              "      <th>JobLevel_1</th>\n",
              "      <th>JobLevel_2</th>\n",
              "      <th>JobLevel_3</th>\n",
              "      <th>JobLevel_4</th>\n",
              "      <th>JobLevel_5</th>\n",
              "      <th>JobRole_0</th>\n",
              "      <th>JobRole_1</th>\n",
              "      <th>JobRole_2</th>\n",
              "      <th>JobRole_3</th>\n",
              "      <th>JobRole_4</th>\n",
              "      <th>JobRole_5</th>\n",
              "      <th>JobRole_6</th>\n",
              "      <th>JobRole_7</th>\n",
              "      <th>JobRole_8</th>\n",
              "      <th>MaritalStatus_0</th>\n",
              "      <th>MaritalStatus_1</th>\n",
              "      <th>MaritalStatus_2</th>\n",
              "      <th>JobSatisfaction_1</th>\n",
              "      <th>JobSatisfaction_2</th>\n",
              "      <th>JobSatisfaction_3</th>\n",
              "      <th>JobSatisfaction_4</th>\n",
              "      <th>EnvironmentSatisfaction_1</th>\n",
              "      <th>EnvironmentSatisfaction_2</th>\n",
              "      <th>EnvironmentSatisfaction_3</th>\n",
              "      <th>EnvironmentSatisfaction_4</th>\n",
              "      <th>NumCompaniesWorked_0</th>\n",
              "      <th>NumCompaniesWorked_1</th>\n",
              "      <th>NumCompaniesWorked_2</th>\n",
              "      <th>NumCompaniesWorked_3</th>\n",
              "      <th>NumCompaniesWorked_4</th>\n",
              "      <th>NumCompaniesWorked_5</th>\n",
              "      <th>NumCompaniesWorked_6</th>\n",
              "      <th>NumCompaniesWorked_7</th>\n",
              "      <th>NumCompaniesWorked_8</th>\n",
              "      <th>NumCompaniesWorked_9</th>\n",
              "      <th>JobInvolvement_1</th>\n",
              "      <th>JobInvolvement_2</th>\n",
              "      <th>JobInvolvement_3</th>\n",
              "      <th>JobInvolvement_4</th>\n",
              "      <th>TrainingTimesLastYear_0</th>\n",
              "      <th>TrainingTimesLastYear_1</th>\n",
              "      <th>TrainingTimesLastYear_2</th>\n",
              "      <th>TrainingTimesLastYear_3</th>\n",
              "      <th>TrainingTimesLastYear_4</th>\n",
              "      <th>TrainingTimesLastYear_5</th>\n",
              "      <th>TrainingTimesLastYear_6</th>\n",
              "      <th>RelationshipSatisfaction_1</th>\n",
              "      <th>RelationshipSatisfaction_2</th>\n",
              "      <th>RelationshipSatisfaction_3</th>\n",
              "      <th>RelationshipSatisfaction_4</th>\n",
              "      <th>Department_0</th>\n",
              "      <th>Department_1</th>\n",
              "      <th>Department_2</th>\n",
              "      <th>WorkLifeBalance_1</th>\n",
              "      <th>WorkLifeBalance_2</th>\n",
              "      <th>WorkLifeBalance_3</th>\n",
              "      <th>WorkLifeBalance_4</th>\n",
              "    </tr>\n",
              "  </thead>\n",
              "  <tbody>\n",
              "    <tr>\n",
              "      <th>0</th>\n",
              "      <td>5993</td>\n",
              "      <td>19479</td>\n",
              "      <td>1102</td>\n",
              "      <td>8</td>\n",
              "      <td>6</td>\n",
              "      <td>4</td>\n",
              "      <td>5</td>\n",
              "      <td>41</td>\n",
              "      <td>1</td>\n",
              "      <td>1</td>\n",
              "      <td>0</td>\n",
              "      <td>0</td>\n",
              "      <td>1</td>\n",
              "      <td>1</td>\n",
              "      <td>0</td>\n",
              "      <td>0</td>\n",
              "      <td>0</td>\n",
              "      <td>0</td>\n",
              "      <td>1</td>\n",
              "      <td>0</td>\n",
              "      <td>0</td>\n",
              "      <td>0</td>\n",
              "      <td>0</td>\n",
              "      <td>0</td>\n",
              "      <td>0</td>\n",
              "      <td>0</td>\n",
              "      <td>0</td>\n",
              "      <td>0</td>\n",
              "      <td>0</td>\n",
              "      <td>1</td>\n",
              "      <td>0</td>\n",
              "      <td>0</td>\n",
              "      <td>0</td>\n",
              "      <td>1</td>\n",
              "      <td>0</td>\n",
              "      <td>0</td>\n",
              "      <td>0</td>\n",
              "      <td>1</td>\n",
              "      <td>0</td>\n",
              "      <td>1</td>\n",
              "      <td>0</td>\n",
              "      <td>0</td>\n",
              "      <td>0</td>\n",
              "      <td>0</td>\n",
              "      <td>0</td>\n",
              "      <td>0</td>\n",
              "      <td>0</td>\n",
              "      <td>0</td>\n",
              "      <td>0</td>\n",
              "      <td>0</td>\n",
              "      <td>1</td>\n",
              "      <td>0</td>\n",
              "      <td>0</td>\n",
              "      <td>0</td>\n",
              "      <td>1</td>\n",
              "      <td>0</td>\n",
              "      <td>1</td>\n",
              "      <td>0</td>\n",
              "      <td>0</td>\n",
              "      <td>0</td>\n",
              "      <td>0</td>\n",
              "      <td>0</td>\n",
              "      <td>0</td>\n",
              "      <td>1</td>\n",
              "      <td>0</td>\n",
              "      <td>0</td>\n",
              "      <td>0</td>\n",
              "      <td>0</td>\n",
              "      <td>0</td>\n",
              "      <td>1</td>\n",
              "      <td>1</td>\n",
              "      <td>0</td>\n",
              "      <td>0</td>\n",
              "      <td>0</td>\n",
              "    </tr>\n",
              "    <tr>\n",
              "      <th>1</th>\n",
              "      <td>5130</td>\n",
              "      <td>24907</td>\n",
              "      <td>279</td>\n",
              "      <td>10</td>\n",
              "      <td>10</td>\n",
              "      <td>7</td>\n",
              "      <td>7</td>\n",
              "      <td>49</td>\n",
              "      <td>8</td>\n",
              "      <td>2</td>\n",
              "      <td>1</td>\n",
              "      <td>1</td>\n",
              "      <td>0</td>\n",
              "      <td>0</td>\n",
              "      <td>1</td>\n",
              "      <td>0</td>\n",
              "      <td>0</td>\n",
              "      <td>0</td>\n",
              "      <td>1</td>\n",
              "      <td>0</td>\n",
              "      <td>0</td>\n",
              "      <td>0</td>\n",
              "      <td>0</td>\n",
              "      <td>0</td>\n",
              "      <td>0</td>\n",
              "      <td>0</td>\n",
              "      <td>0</td>\n",
              "      <td>0</td>\n",
              "      <td>1</td>\n",
              "      <td>0</td>\n",
              "      <td>0</td>\n",
              "      <td>0</td>\n",
              "      <td>1</td>\n",
              "      <td>0</td>\n",
              "      <td>0</td>\n",
              "      <td>1</td>\n",
              "      <td>0</td>\n",
              "      <td>0</td>\n",
              "      <td>0</td>\n",
              "      <td>0</td>\n",
              "      <td>1</td>\n",
              "      <td>0</td>\n",
              "      <td>0</td>\n",
              "      <td>1</td>\n",
              "      <td>0</td>\n",
              "      <td>0</td>\n",
              "      <td>0</td>\n",
              "      <td>0</td>\n",
              "      <td>0</td>\n",
              "      <td>0</td>\n",
              "      <td>0</td>\n",
              "      <td>0</td>\n",
              "      <td>0</td>\n",
              "      <td>1</td>\n",
              "      <td>0</td>\n",
              "      <td>0</td>\n",
              "      <td>0</td>\n",
              "      <td>0</td>\n",
              "      <td>0</td>\n",
              "      <td>1</td>\n",
              "      <td>0</td>\n",
              "      <td>0</td>\n",
              "      <td>0</td>\n",
              "      <td>0</td>\n",
              "      <td>0</td>\n",
              "      <td>0</td>\n",
              "      <td>1</td>\n",
              "      <td>0</td>\n",
              "      <td>1</td>\n",
              "      <td>0</td>\n",
              "      <td>0</td>\n",
              "      <td>0</td>\n",
              "      <td>1</td>\n",
              "      <td>0</td>\n",
              "    </tr>\n",
              "    <tr>\n",
              "      <th>2</th>\n",
              "      <td>2090</td>\n",
              "      <td>2396</td>\n",
              "      <td>1373</td>\n",
              "      <td>7</td>\n",
              "      <td>0</td>\n",
              "      <td>0</td>\n",
              "      <td>0</td>\n",
              "      <td>37</td>\n",
              "      <td>2</td>\n",
              "      <td>4</td>\n",
              "      <td>0</td>\n",
              "      <td>0</td>\n",
              "      <td>1</td>\n",
              "      <td>1</td>\n",
              "      <td>0</td>\n",
              "      <td>0</td>\n",
              "      <td>0</td>\n",
              "      <td>1</td>\n",
              "      <td>0</td>\n",
              "      <td>0</td>\n",
              "      <td>0</td>\n",
              "      <td>0</td>\n",
              "      <td>0</td>\n",
              "      <td>0</td>\n",
              "      <td>1</td>\n",
              "      <td>0</td>\n",
              "      <td>0</td>\n",
              "      <td>0</td>\n",
              "      <td>0</td>\n",
              "      <td>0</td>\n",
              "      <td>0</td>\n",
              "      <td>0</td>\n",
              "      <td>0</td>\n",
              "      <td>1</td>\n",
              "      <td>0</td>\n",
              "      <td>0</td>\n",
              "      <td>1</td>\n",
              "      <td>0</td>\n",
              "      <td>0</td>\n",
              "      <td>0</td>\n",
              "      <td>0</td>\n",
              "      <td>1</td>\n",
              "      <td>0</td>\n",
              "      <td>0</td>\n",
              "      <td>0</td>\n",
              "      <td>0</td>\n",
              "      <td>0</td>\n",
              "      <td>0</td>\n",
              "      <td>1</td>\n",
              "      <td>0</td>\n",
              "      <td>0</td>\n",
              "      <td>0</td>\n",
              "      <td>0</td>\n",
              "      <td>1</td>\n",
              "      <td>0</td>\n",
              "      <td>0</td>\n",
              "      <td>0</td>\n",
              "      <td>0</td>\n",
              "      <td>0</td>\n",
              "      <td>1</td>\n",
              "      <td>0</td>\n",
              "      <td>0</td>\n",
              "      <td>0</td>\n",
              "      <td>0</td>\n",
              "      <td>1</td>\n",
              "      <td>0</td>\n",
              "      <td>0</td>\n",
              "      <td>0</td>\n",
              "      <td>1</td>\n",
              "      <td>0</td>\n",
              "      <td>0</td>\n",
              "      <td>0</td>\n",
              "      <td>1</td>\n",
              "      <td>0</td>\n",
              "    </tr>\n",
              "    <tr>\n",
              "      <th>3</th>\n",
              "      <td>2909</td>\n",
              "      <td>23159</td>\n",
              "      <td>1392</td>\n",
              "      <td>8</td>\n",
              "      <td>8</td>\n",
              "      <td>7</td>\n",
              "      <td>0</td>\n",
              "      <td>33</td>\n",
              "      <td>3</td>\n",
              "      <td>5</td>\n",
              "      <td>3</td>\n",
              "      <td>0</td>\n",
              "      <td>1</td>\n",
              "      <td>1</td>\n",
              "      <td>0</td>\n",
              "      <td>0</td>\n",
              "      <td>0</td>\n",
              "      <td>1</td>\n",
              "      <td>0</td>\n",
              "      <td>0</td>\n",
              "      <td>0</td>\n",
              "      <td>0</td>\n",
              "      <td>0</td>\n",
              "      <td>0</td>\n",
              "      <td>0</td>\n",
              "      <td>0</td>\n",
              "      <td>0</td>\n",
              "      <td>0</td>\n",
              "      <td>1</td>\n",
              "      <td>0</td>\n",
              "      <td>0</td>\n",
              "      <td>0</td>\n",
              "      <td>1</td>\n",
              "      <td>0</td>\n",
              "      <td>0</td>\n",
              "      <td>0</td>\n",
              "      <td>1</td>\n",
              "      <td>0</td>\n",
              "      <td>0</td>\n",
              "      <td>0</td>\n",
              "      <td>0</td>\n",
              "      <td>1</td>\n",
              "      <td>0</td>\n",
              "      <td>1</td>\n",
              "      <td>0</td>\n",
              "      <td>0</td>\n",
              "      <td>0</td>\n",
              "      <td>0</td>\n",
              "      <td>0</td>\n",
              "      <td>0</td>\n",
              "      <td>0</td>\n",
              "      <td>0</td>\n",
              "      <td>0</td>\n",
              "      <td>0</td>\n",
              "      <td>1</td>\n",
              "      <td>0</td>\n",
              "      <td>0</td>\n",
              "      <td>0</td>\n",
              "      <td>0</td>\n",
              "      <td>1</td>\n",
              "      <td>0</td>\n",
              "      <td>0</td>\n",
              "      <td>0</td>\n",
              "      <td>0</td>\n",
              "      <td>0</td>\n",
              "      <td>1</td>\n",
              "      <td>0</td>\n",
              "      <td>0</td>\n",
              "      <td>1</td>\n",
              "      <td>0</td>\n",
              "      <td>0</td>\n",
              "      <td>0</td>\n",
              "      <td>1</td>\n",
              "      <td>0</td>\n",
              "    </tr>\n",
              "    <tr>\n",
              "      <th>4</th>\n",
              "      <td>3468</td>\n",
              "      <td>16632</td>\n",
              "      <td>591</td>\n",
              "      <td>6</td>\n",
              "      <td>2</td>\n",
              "      <td>2</td>\n",
              "      <td>2</td>\n",
              "      <td>27</td>\n",
              "      <td>2</td>\n",
              "      <td>7</td>\n",
              "      <td>2</td>\n",
              "      <td>1</td>\n",
              "      <td>0</td>\n",
              "      <td>0</td>\n",
              "      <td>1</td>\n",
              "      <td>0</td>\n",
              "      <td>0</td>\n",
              "      <td>1</td>\n",
              "      <td>0</td>\n",
              "      <td>0</td>\n",
              "      <td>0</td>\n",
              "      <td>0</td>\n",
              "      <td>0</td>\n",
              "      <td>0</td>\n",
              "      <td>1</td>\n",
              "      <td>0</td>\n",
              "      <td>0</td>\n",
              "      <td>0</td>\n",
              "      <td>0</td>\n",
              "      <td>0</td>\n",
              "      <td>0</td>\n",
              "      <td>0</td>\n",
              "      <td>1</td>\n",
              "      <td>0</td>\n",
              "      <td>0</td>\n",
              "      <td>1</td>\n",
              "      <td>0</td>\n",
              "      <td>0</td>\n",
              "      <td>1</td>\n",
              "      <td>0</td>\n",
              "      <td>0</td>\n",
              "      <td>0</td>\n",
              "      <td>0</td>\n",
              "      <td>0</td>\n",
              "      <td>0</td>\n",
              "      <td>0</td>\n",
              "      <td>0</td>\n",
              "      <td>0</td>\n",
              "      <td>0</td>\n",
              "      <td>0</td>\n",
              "      <td>0</td>\n",
              "      <td>1</td>\n",
              "      <td>0</td>\n",
              "      <td>0</td>\n",
              "      <td>1</td>\n",
              "      <td>0</td>\n",
              "      <td>0</td>\n",
              "      <td>0</td>\n",
              "      <td>0</td>\n",
              "      <td>1</td>\n",
              "      <td>0</td>\n",
              "      <td>0</td>\n",
              "      <td>0</td>\n",
              "      <td>0</td>\n",
              "      <td>0</td>\n",
              "      <td>0</td>\n",
              "      <td>1</td>\n",
              "      <td>0</td>\n",
              "      <td>1</td>\n",
              "      <td>0</td>\n",
              "      <td>0</td>\n",
              "      <td>0</td>\n",
              "      <td>1</td>\n",
              "      <td>0</td>\n",
              "    </tr>\n",
              "  </tbody>\n",
              "</table>\n",
              "</div>"
            ],
            "text/plain": [
              "   MonthlyIncome  MonthlyRate  ...  WorkLifeBalance_3  WorkLifeBalance_4\n",
              "0           5993        19479  ...                  0                  0\n",
              "1           5130        24907  ...                  1                  0\n",
              "2           2090         2396  ...                  1                  0\n",
              "3           2909        23159  ...                  1                  0\n",
              "4           3468        16632  ...                  1                  0\n",
              "\n",
              "[5 rows x 74 columns]"
            ]
          },
          "metadata": {
            "tags": []
          },
          "execution_count": 32
        }
      ]
    },
    {
      "cell_type": "markdown",
      "metadata": {
        "id": "NSPCfHxWIIlu"
      },
      "source": [
        "## Modelagem de dados\r\n",
        "\r\n",
        "Como devemos descobrir quais pessoas possuem maior e menor probabilidade de sair de empresa, nós temos um problema de classificação binária (Yes/No Attrition). \r\n",
        "\r\n",
        "No nosso caso, em que as variáveis possuem proporções muito diferentes entre si, precisamos escalar as variáveis (*feature scaling*) para que os algoritmos de Machine Learning funcione bem. Para isso, usaremos `RobustScaler`.\r\n",
        "\r\n",
        "Os algoritmos utilizados para modelar os dados serão:\r\n",
        "- Logistic Regression\r\n",
        "- Random Forest Classifier\r\n",
        "- XGBoosting\r\n",
        "- Ada Boost Classifier"
      ]
    },
    {
      "cell_type": "code",
      "metadata": {
        "id": "thpnkZ7TKPpM"
      },
      "source": [
        "from sklearn.linear_model import LogisticRegression\r\n",
        "from sklearn.ensemble import RandomForestClassifier, AdaBoostClassifier\r\n",
        "from sklearn.tree import DecisionTreeClassifier\r\n",
        "import xgboost as xgb\r\n",
        "from sklearn.metrics import accuracy_score, precision_score, recall_score, roc_auc_score, f1_score\r\n",
        "from sklearn.preprocessing import RobustScaler\r\n",
        "from sklearn.pipeline import make_pipeline\r\n",
        "\r\n",
        "model_log = make_pipeline(RobustScaler(), LogisticRegression())\r\n",
        "model_rfc = make_pipeline(RobustScaler(), RandomForestClassifier())\r\n",
        "model_xgb = make_pipeline(RobustScaler(), xgb.XGBClassifier(max_depth=2, n_estimators=3, learning_rate=1.0))\r\n",
        "model_ada = make_pipeline(RobustScaler(), AdaBoostClassifier(DecisionTreeClassifier(max_depth=1), n_estimators=200, algorithm=\"SAMME.R\", learning_rate=0.5))"
      ],
      "execution_count": 33,
      "outputs": []
    },
    {
      "cell_type": "code",
      "metadata": {
        "id": "RP4iGlsGJ_Eo"
      },
      "source": [
        "from sklearn.model_selection import train_test_split\r\n",
        "\r\n",
        "X_train, X_test, y_train, y_test = train_test_split(df_final, target, test_size=0.2, random_state=42)"
      ],
      "execution_count": 34,
      "outputs": []
    },
    {
      "cell_type": "markdown",
      "metadata": {
        "id": "cMZMhmn3MSdd"
      },
      "source": [
        "### Acurácia, Precisão e Revocação\r\n",
        "\r\n",
        "\r\n",
        "$Accuracy = \\frac{True Positive + True Negative}{True Positive + False Positive + True Negative + False Negative} = \\frac{Total True Predictions}{Total Predictions} $\r\n",
        "\r\n",
        "$Precision = \\frac{True Positive}{True Positive + False Positive} = \\frac{True Positive}{Total Predicted Positive} $\r\n",
        "\r\n",
        "$Recall = \\frac{True Positive}{True Positive + False Negative} = \\frac{True Positive}{Total Actual Positive}$\r\n",
        "\r\n",
        "$F1 = 2\\times\\frac{Precision\\times Recall}{Precision + Recall}$\r\n",
        "\r\n",
        "Acurácia é o número de amostras previstas corretamente dentre todas as amostras previstas.\r\n",
        "\r\n",
        "Precisão indica o quão bem o modelo prevê a evasão de funcionários.\r\n",
        "\r\n",
        "Recall indica o quão bem o modelo faz as escolhas certas. \r\n",
        "\r\n",
        "F1 score é uma função da precisão e do recall para definir uma acurácia mais realista."
      ]
    },
    {
      "cell_type": "code",
      "metadata": {
        "id": "X7ul0r3UBhA9"
      },
      "source": [
        "def compare(model):\r\n",
        "    clf=model\r\n",
        "    clf.fit(X_train, y_train)\r\n",
        "    pred=clf.predict(X_test)  \r\n",
        "\r\n",
        "    acc.append(accuracy_score(pred,y_test))\r\n",
        "    prec.append(precision_score(pred,y_test))\r\n",
        "    rec.append(recall_score(pred,y_test))\r\n",
        "    rocauc.append(roc_auc_score(pred,y_test))\r\n",
        "    f1.append(f1_score(pred,y_test))"
      ],
      "execution_count": 35,
      "outputs": []
    },
    {
      "cell_type": "code",
      "metadata": {
        "colab": {
          "base_uri": "https://localhost:8080/",
          "height": 173
        },
        "id": "ww81o0vwCK8j",
        "outputId": "b1460cfe-8709-434c-db92-2a5e8f516d0b"
      },
      "source": [
        "acc=[]\r\n",
        "prec=[]\r\n",
        "rec=[]\r\n",
        "rocauc=[] \r\n",
        "f1=[]\r\n",
        "models=[model_log, model_rfc, model_xgb, model_ada]\r\n",
        "model_names=['Logistic Regression', 'Random Forest', 'XG Boost','Ada Boost']\r\n",
        "\r\n",
        "for model in range(len(models)):\r\n",
        "  compare(models[model])\r\n",
        "    \r\n",
        "x = {'Algorithm': model_names, 'Accuracy': acc, 'Precision': prec, 'Recall': rec, 'F1 score': f1 , 'ROC AUC': rocauc}\r\n",
        "table_algo = pd.DataFrame(x)\r\n",
        "table_algo"
      ],
      "execution_count": 36,
      "outputs": [
        {
          "output_type": "execute_result",
          "data": {
            "text/html": [
              "<div>\n",
              "<style scoped>\n",
              "    .dataframe tbody tr th:only-of-type {\n",
              "        vertical-align: middle;\n",
              "    }\n",
              "\n",
              "    .dataframe tbody tr th {\n",
              "        vertical-align: top;\n",
              "    }\n",
              "\n",
              "    .dataframe thead th {\n",
              "        text-align: right;\n",
              "    }\n",
              "</style>\n",
              "<table border=\"1\" class=\"dataframe\">\n",
              "  <thead>\n",
              "    <tr style=\"text-align: right;\">\n",
              "      <th></th>\n",
              "      <th>Algorithm</th>\n",
              "      <th>Accuracy</th>\n",
              "      <th>Precision</th>\n",
              "      <th>Recall</th>\n",
              "      <th>F1 score</th>\n",
              "      <th>ROC AUC</th>\n",
              "    </tr>\n",
              "  </thead>\n",
              "  <tbody>\n",
              "    <tr>\n",
              "      <th>0</th>\n",
              "      <td>Logistic Regression</td>\n",
              "      <td>0.867347</td>\n",
              "      <td>0.384615</td>\n",
              "      <td>0.500000</td>\n",
              "      <td>0.434783</td>\n",
              "      <td>0.704545</td>\n",
              "    </tr>\n",
              "    <tr>\n",
              "      <th>1</th>\n",
              "      <td>Random Forest</td>\n",
              "      <td>0.884354</td>\n",
              "      <td>0.128205</td>\n",
              "      <td>1.000000</td>\n",
              "      <td>0.227273</td>\n",
              "      <td>0.941176</td>\n",
              "    </tr>\n",
              "    <tr>\n",
              "      <th>2</th>\n",
              "      <td>XG Boost</td>\n",
              "      <td>0.846939</td>\n",
              "      <td>0.128205</td>\n",
              "      <td>0.312500</td>\n",
              "      <td>0.181818</td>\n",
              "      <td>0.595099</td>\n",
              "    </tr>\n",
              "    <tr>\n",
              "      <th>3</th>\n",
              "      <td>Ada Boost</td>\n",
              "      <td>0.853741</td>\n",
              "      <td>0.384615</td>\n",
              "      <td>0.441176</td>\n",
              "      <td>0.410959</td>\n",
              "      <td>0.674434</td>\n",
              "    </tr>\n",
              "  </tbody>\n",
              "</table>\n",
              "</div>"
            ],
            "text/plain": [
              "             Algorithm  Accuracy  Precision    Recall  F1 score   ROC AUC\n",
              "0  Logistic Regression  0.867347   0.384615  0.500000  0.434783  0.704545\n",
              "1        Random Forest  0.884354   0.128205  1.000000  0.227273  0.941176\n",
              "2             XG Boost  0.846939   0.128205  0.312500  0.181818  0.595099\n",
              "3            Ada Boost  0.853741   0.384615  0.441176  0.410959  0.674434"
            ]
          },
          "metadata": {
            "tags": []
          },
          "execution_count": 36
        }
      ]
    },
    {
      "cell_type": "markdown",
      "metadata": {
        "id": "xUiiDgWlVG7E"
      },
      "source": [
        "Obtivemos uma acurácia relativamente boa. No entanto, a precisão parece péssima (entre 12-38 %). Ou seja, ainda que o modelo preveja corretamente cerca de 84-88 % das amostras, nós não conseguimos isolar um indivíduo específico e dizer: \"essa pessoa vai sair da empresa\", pois nosso índice seria um tanto pior do que chutar. Isso acontece porque as pessoas que saem da empresa são relativamente raras (cerca de 16 % do total). Portanto, você pode acertar a maioria das vezes não porque o seu modelo é muito bom -- mas porque se você chutar que a pessoa \"não vai evadir da empresa\", você estará certo na maioria das vezes.\r\n",
        "\r\n",
        "Esse é o problema dos dados estarem desbalanceados. Uma solução é a *reamostragem*. Ou seja, equivaler o tamanho dos conjuntos de Yes Attrition e No Attrition."
      ]
    },
    {
      "cell_type": "markdown",
      "metadata": {
        "id": "LHEyf4VqUYjA"
      },
      "source": [
        "### Reamostragem"
      ]
    },
    {
      "cell_type": "code",
      "metadata": {
        "colab": {
          "base_uri": "https://localhost:8080/"
        },
        "id": "I_mp0nUHUYDs",
        "outputId": "4c510952-fbf5-4d8e-bbf2-3ff5bc21f1f8"
      },
      "source": [
        "from sklearn.utils import resample\r\n",
        "\r\n",
        "dff = pd.concat([df_final, target], axis=1)\r\n",
        "\r\n",
        "\r\n",
        "# separate minority and majority classes\r\n",
        "yes_attrition = dff.loc[dff['Attrition'] == 1]\r\n",
        "no_attrition = dff.loc[dff['Attrition'] == 0]\r\n",
        "\r\n",
        "no_attrition_downsampled = resample(no_attrition,\r\n",
        "                                    replace = False, # sample without replacement\r\n",
        "                                    n_samples = len(yes_attrition), # match minority n\r\n",
        "                                    random_state = 42) # reproducible results\r\n",
        "downsampled = pd.concat([yes_attrition, no_attrition_downsampled])\r\n",
        "target_downsampled = downsampled['Attrition']\r\n",
        "feature_downsampled = downsampled.drop(['Attrition'], axis=1)\r\n",
        "downsampled['Attrition'].value_counts()"
      ],
      "execution_count": 37,
      "outputs": [
        {
          "output_type": "execute_result",
          "data": {
            "text/plain": [
              "1    237\n",
              "0    237\n",
              "Name: Attrition, dtype: int64"
            ]
          },
          "metadata": {
            "tags": []
          },
          "execution_count": 37
        }
      ]
    },
    {
      "cell_type": "code",
      "metadata": {
        "colab": {
          "base_uri": "https://localhost:8080/",
          "height": 173
        },
        "id": "cHyUsjMCU_gd",
        "outputId": "65d14437-4dd0-4ed4-9951-1a97f8d030cc"
      },
      "source": [
        "X_train, X_test, y_train, y_test = train_test_split(feature_downsampled, target_downsampled, test_size=0.2, random_state=42)\r\n",
        "\r\n",
        "acc=[]\r\n",
        "prec=[]\r\n",
        "rec=[]\r\n",
        "f1=[]\r\n",
        "rocauc=[] \r\n",
        "models=[model_log, model_rfc, model_xgb, model_ada]\r\n",
        "model_names=['Logistic Regression', 'Random Forest', 'XG Boost','Ada Boost']\r\n",
        "\r\n",
        "for model in range(len(models)):\r\n",
        "  compare(models[model])\r\n",
        "    \r\n",
        "x = {'Algorithm': model_names, 'Accuracy': acc, 'Precision': prec, 'Recall': rec, 'F1 score': f1, 'ROC AUC': rocauc}\r\n",
        "table_algo = pd.DataFrame(x)\r\n",
        "table_algo"
      ],
      "execution_count": 38,
      "outputs": [
        {
          "output_type": "execute_result",
          "data": {
            "text/html": [
              "<div>\n",
              "<style scoped>\n",
              "    .dataframe tbody tr th:only-of-type {\n",
              "        vertical-align: middle;\n",
              "    }\n",
              "\n",
              "    .dataframe tbody tr th {\n",
              "        vertical-align: top;\n",
              "    }\n",
              "\n",
              "    .dataframe thead th {\n",
              "        text-align: right;\n",
              "    }\n",
              "</style>\n",
              "<table border=\"1\" class=\"dataframe\">\n",
              "  <thead>\n",
              "    <tr style=\"text-align: right;\">\n",
              "      <th></th>\n",
              "      <th>Algorithm</th>\n",
              "      <th>Accuracy</th>\n",
              "      <th>Precision</th>\n",
              "      <th>Recall</th>\n",
              "      <th>F1 score</th>\n",
              "      <th>ROC AUC</th>\n",
              "    </tr>\n",
              "  </thead>\n",
              "  <tbody>\n",
              "    <tr>\n",
              "      <th>0</th>\n",
              "      <td>Logistic Regression</td>\n",
              "      <td>0.768421</td>\n",
              "      <td>0.808511</td>\n",
              "      <td>0.745098</td>\n",
              "      <td>0.775510</td>\n",
              "      <td>0.770276</td>\n",
              "    </tr>\n",
              "    <tr>\n",
              "      <th>1</th>\n",
              "      <td>Random Forest</td>\n",
              "      <td>0.736842</td>\n",
              "      <td>0.765957</td>\n",
              "      <td>0.720000</td>\n",
              "      <td>0.742268</td>\n",
              "      <td>0.737778</td>\n",
              "    </tr>\n",
              "    <tr>\n",
              "      <th>2</th>\n",
              "      <td>XG Boost</td>\n",
              "      <td>0.715789</td>\n",
              "      <td>0.638298</td>\n",
              "      <td>0.750000</td>\n",
              "      <td>0.689655</td>\n",
              "      <td>0.720455</td>\n",
              "    </tr>\n",
              "    <tr>\n",
              "      <th>3</th>\n",
              "      <td>Ada Boost</td>\n",
              "      <td>0.715789</td>\n",
              "      <td>0.723404</td>\n",
              "      <td>0.708333</td>\n",
              "      <td>0.715789</td>\n",
              "      <td>0.715869</td>\n",
              "    </tr>\n",
              "  </tbody>\n",
              "</table>\n",
              "</div>"
            ],
            "text/plain": [
              "             Algorithm  Accuracy  Precision    Recall  F1 score   ROC AUC\n",
              "0  Logistic Regression  0.768421   0.808511  0.745098  0.775510  0.770276\n",
              "1        Random Forest  0.736842   0.765957  0.720000  0.742268  0.737778\n",
              "2             XG Boost  0.715789   0.638298  0.750000  0.689655  0.720455\n",
              "3            Ada Boost  0.715789   0.723404  0.708333  0.715789  0.715869"
            ]
          },
          "metadata": {
            "tags": []
          },
          "execution_count": 38
        }
      ]
    },
    {
      "cell_type": "markdown",
      "metadata": {
        "id": "YVJFI2SVXBWf"
      },
      "source": [
        "Com isso, obtemos uma precisão de 63-80 %, um F1 de 68-77 % e concluímos nosso exercício. A partir daqui, poderíamos testar muitas outras técnicas para melhorar nossos resultados:\r\n",
        "\r\n",
        "- Validação cruzada\r\n",
        "- Paineis empilhados\r\n",
        "- Métodos caixa branca\r\n",
        "- Deep Learning: métodos envolvendo ANN"
      ]
    }
  ]
}